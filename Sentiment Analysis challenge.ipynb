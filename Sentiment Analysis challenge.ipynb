{
 "cells": [
  {
   "cell_type": "markdown",
   "id": "c744a508",
   "metadata": {
    "id": "c744a508"
   },
   "source": [
    ">>## Sentiment Analysis project in NLP - (fellowship.ai)\n"
   ]
  },
  {
   "cell_type": "code",
   "execution_count": 1,
   "id": "1Pwajxfq7Wbo",
   "metadata": {
    "colab": {
     "base_uri": "https://localhost:8080/"
    },
    "executionInfo": {
     "elapsed": 30845,
     "status": "ok",
     "timestamp": 1677233885333,
     "user": {
      "displayName": "Ranjit Singh",
      "userId": "11702740849844909823"
     },
     "user_tz": -330
    },
    "id": "1Pwajxfq7Wbo",
    "outputId": "347ff90c-b020-4b3e-ee33-4e5555023adf"
   },
   "outputs": [
    {
     "name": "stdout",
     "output_type": "stream",
     "text": [
      "Mounted at /content/drive\n"
     ]
    }
   ],
   "source": [
    "from google.colab import drive\n",
    "drive.mount('/content/drive')"
   ]
  },
  {
   "cell_type": "code",
   "execution_count": 3,
   "id": "b59b2909",
   "metadata": {
    "executionInfo": {
     "elapsed": 519,
     "status": "ok",
     "timestamp": 1677236121406,
     "user": {
      "displayName": "Ranjit Singh",
      "userId": "11702740849844909823"
     },
     "user_tz": -330
    },
    "id": "b59b2909"
   },
   "outputs": [],
   "source": [
    "# importing all necessary libraries\n",
    "import pandas as pd\n",
    "import numpy as np\n",
    "import seaborn as sns\n",
    "import matplotlib.pyplot as plt\n",
    "import re\n",
    "import time\n",
    "import nltk\n",
    "from nltk.corpus import stopwords\n",
    "from nltk.stem import PorterStemmer\n",
    "import tensorflow as tf\n",
    "from tensorflow.keras.preprocessing.text import one_hot\n",
    "from tensorflow.keras.preprocessing.sequence import pad_sequences\n",
    "from tensorflow.keras.models import Sequential\n",
    "from tensorflow.keras.models import load_model\n",
    "from tensorflow.keras.layers import Embedding, Dense , Dropout,LSTM ,Bidirectional\n",
    "from sklearn.model_selection import train_test_split\n",
    "from sklearn.metrics import confusion_matrix,classification_report,accuracy_score\n",
    "import os, pickle\n",
    "%matplotlib inline"
   ]
  },
  {
   "cell_type": "code",
   "execution_count": null,
   "id": "f8ecec34",
   "metadata": {
    "id": "f8ecec34"
   },
   "outputs": [],
   "source": [
    "import warnings\n",
    "warnings.filterwarnings('ignore')"
   ]
  },
  {
   "cell_type": "markdown",
   "id": "719acef9",
   "metadata": {},
   "source": [
    "### Reading data from the csv file"
   ]
  },
  {
   "cell_type": "code",
   "execution_count": 2,
   "id": "826b72b8",
   "metadata": {
    "id": "826b72b8",
    "outputId": "66e88395-bc14-44e7-a107-3a47532916da"
   },
   "outputs": [
    {
     "data": {
      "text/html": [
       "<div>\n",
       "<style scoped>\n",
       "    .dataframe tbody tr th:only-of-type {\n",
       "        vertical-align: middle;\n",
       "    }\n",
       "\n",
       "    .dataframe tbody tr th {\n",
       "        vertical-align: top;\n",
       "    }\n",
       "\n",
       "    .dataframe thead th {\n",
       "        text-align: right;\n",
       "    }\n",
       "</style>\n",
       "<table border=\"1\" class=\"dataframe\">\n",
       "  <thead>\n",
       "    <tr style=\"text-align: right;\">\n",
       "      <th></th>\n",
       "      <th>review</th>\n",
       "      <th>sentiment</th>\n",
       "    </tr>\n",
       "  </thead>\n",
       "  <tbody>\n",
       "    <tr>\n",
       "      <th>0</th>\n",
       "      <td>One of the other reviewers has mentioned that ...</td>\n",
       "      <td>positive</td>\n",
       "    </tr>\n",
       "    <tr>\n",
       "      <th>1</th>\n",
       "      <td>A wonderful little production. &lt;br /&gt;&lt;br /&gt;The...</td>\n",
       "      <td>positive</td>\n",
       "    </tr>\n",
       "    <tr>\n",
       "      <th>2</th>\n",
       "      <td>I thought this was a wonderful way to spend ti...</td>\n",
       "      <td>positive</td>\n",
       "    </tr>\n",
       "    <tr>\n",
       "      <th>3</th>\n",
       "      <td>Basically there's a family where a little boy ...</td>\n",
       "      <td>negative</td>\n",
       "    </tr>\n",
       "    <tr>\n",
       "      <th>4</th>\n",
       "      <td>Petter Mattei's \"Love in the Time of Money\" is...</td>\n",
       "      <td>positive</td>\n",
       "    </tr>\n",
       "  </tbody>\n",
       "</table>\n",
       "</div>"
      ],
      "text/plain": [
       "                                              review sentiment\n",
       "0  One of the other reviewers has mentioned that ...  positive\n",
       "1  A wonderful little production. <br /><br />The...  positive\n",
       "2  I thought this was a wonderful way to spend ti...  positive\n",
       "3  Basically there's a family where a little boy ...  negative\n",
       "4  Petter Mattei's \"Love in the Time of Money\" is...  positive"
      ]
     },
     "execution_count": 2,
     "metadata": {},
     "output_type": "execute_result"
    }
   ],
   "source": [
    "data = pd.read_csv('Data/IMDB Dataset.csv')\n",
    "data.head()"
   ]
  },
  {
   "cell_type": "code",
   "execution_count": 3,
   "id": "9e72c6d0",
   "metadata": {
    "id": "9e72c6d0",
    "outputId": "f618e22b-d0f6-4b66-e2ee-ec6e78a07839"
   },
   "outputs": [
    {
     "name": "stdout",
     "output_type": "stream",
     "text": [
      "<class 'pandas.core.frame.DataFrame'>\n",
      "RangeIndex: 50000 entries, 0 to 49999\n",
      "Data columns (total 2 columns):\n",
      " #   Column     Non-Null Count  Dtype \n",
      "---  ------     --------------  ----- \n",
      " 0   review     50000 non-null  object\n",
      " 1   sentiment  50000 non-null  object\n",
      "dtypes: object(2)\n",
      "memory usage: 781.4+ KB\n",
      "None\n"
     ]
    }
   ],
   "source": [
    "data.info()        # to print all the information of about data"
   ]
  },
  {
   "cell_type": "markdown",
   "id": "68dc9a1c",
   "metadata": {},
   "source": [
    "### to check imbalancity of our data"
   ]
  },
  {
   "cell_type": "code",
   "execution_count": null,
   "id": "c82273ce",
   "metadata": {
    "id": "c82273ce",
    "outputId": "c01f71c8-0f34-4a9c-d8ca-94d5ea3810dc"
   },
   "outputs": [
    {
     "data": {
      "text/plain": [
       "positive    25000\n",
       "negative    25000\n",
       "Name: sentiment, dtype: int64"
      ]
     },
     "execution_count": 5,
     "metadata": {},
     "output_type": "execute_result"
    }
   ],
   "source": [
    "\n",
    "data['sentiment'].value_counts()"
   ]
  },
  {
   "cell_type": "code",
   "execution_count": null,
   "id": "85f370fe",
   "metadata": {
    "id": "85f370fe"
   },
   "outputs": [],
   "source": [
    "values = list(data['sentiment'].value_counts().values)\n",
    "key = list(data['sentiment'].value_counts().keys())"
   ]
  },
  {
   "cell_type": "code",
   "execution_count": null,
   "id": "1abc8379",
   "metadata": {
    "id": "1abc8379",
    "outputId": "f5b8cb7a-f7dd-4c5e-9788-84cf2dfcc46c"
   },
   "outputs": [
    {
     "data": {
      "image/png": "[encoded data removed]",
      "text/plain": [
       "<Figure size 576x576 with 1 Axes>"
      ]
     },
     "metadata": {},
     "output_type": "display_data"
    }
   ],
   "source": [
    "plt.figure(figsize=(8,8))\n",
    "ex = [0.2,0]\n",
    "plt.pie(values,labels=key,shadow=True,wedgeprops={'edgecolor':'k','lw':'3'},explode=ex,startangle=90,autopct='%1.2f%%')\n",
    "plt.title('Balanced Dataset ',fontsize = 24)\n",
    "plt.show()\n",
    "\n",
    "### now we can say this balance dataset"
   ]
  },
  {
   "cell_type": "markdown",
   "id": "4ea58a2b",
   "metadata": {
    "id": "4ea58a2b"
   },
   "source": [
    "## statistical analysis"
   ]
  },
  {
   "cell_type": "code",
   "execution_count": null,
   "id": "b74dd973",
   "metadata": {
    "id": "b74dd973",
    "outputId": "619d2334-c793-434c-dc3c-8e8a7d7a6fb4"
   },
   "outputs": [
    {
     "data": {
      "text/plain": [
       "13704"
      ]
     },
     "execution_count": 17,
     "metadata": {},
     "output_type": "execute_result"
    }
   ],
   "source": [
    "maximum_lenght = (data['review'].map(len)).max()  \n",
    "maximum_lenght\n",
    "\n",
    "# maximum length of review in our dataset"
   ]
  },
  {
   "cell_type": "code",
   "execution_count": null,
   "id": "e450c387",
   "metadata": {
    "id": "e450c387",
    "outputId": "a234c8e4-17ec-48f1-8e26-b79a1b3b00ea"
   },
   "outputs": [
    {
     "data": {
      "text/plain": [
       "32"
      ]
     },
     "execution_count": 4,
     "metadata": {},
     "output_type": "execute_result"
    }
   ],
   "source": [
    "minimum_lenght = (data['review'].map(len)).min()\n",
    "minimum_lenght\n",
    "\n",
    "# minimum length of review in our dataset"
   ]
  },
  {
   "cell_type": "code",
   "execution_count": null,
   "id": "f5e42b16",
   "metadata": {
    "id": "f5e42b16",
    "outputId": "4b58b6fe-930e-4ee0-b62f-b9cbb4be1a92"
   },
   "outputs": [
    {
     "data": {
      "text/plain": [
       "\"One of the other reviewers has mentioned that after watching just 1 Oz episode you'll be hooked. They are right, as this is exactly what happened with me.<br /><br />The first thing that struck me about Oz was its brutality and unflinching scenes of violence, which set in right from the word GO. Trust me, this is not a show for the faint hearted or timid. This show pulls no punches with regards to drugs, sex or violence. Its is hardcore, in the classic use of the word.<br /><br />It is called OZ as that is the nickname given to the Oswald Maximum Security State Penitentary. It focuses mainly on Emerald City, an experimental section of the prison where all the cells have glass fronts and face inwards, so privacy is not high on the agenda. Em City is home to many..Aryans, Muslims, gangstas, Latinos, Christians, Italians, Irish and more....so scuffles, death stares, dodgy dealings and shady agreements are never far away.<br /><br />I would say the main appeal of the show is due to the fact that it goes where other shows wouldn't dare. Forget pretty pictures painted for mainstream audiences, forget charm, forget romance...OZ doesn't mess around. The first episode I ever saw struck me as so nasty it was surreal, I couldn't say I was ready for it, but as I watched more, I developed a taste for Oz, and got accustomed to the high levels of graphic violence. Not just violence, but injustice (crooked guards who'll be sold out for a nickel, inmates who'll kill on order and get away with it, well mannered, middle class inmates being turned into prison bitches due to their lack of street skills or prison experience) Watching Oz, you may become comfortable with what is uncomfortable viewing....thats if you can get in touch with your darker side.\""
      ]
     },
     "execution_count": 16,
     "metadata": {},
     "output_type": "execute_result"
    }
   ],
   "source": [
    "# to print the first review\n",
    "\n",
    "data['review'][0]"
   ]
  },
  {
   "cell_type": "code",
   "execution_count": null,
   "id": "6b34e20a",
   "metadata": {
    "id": "6b34e20a"
   },
   "outputs": [],
   "source": [
    "data['char_lenght'] = data['review'].map(len)\n",
    "\n",
    "# to define a new feature filling by charcter length of particular review"
   ]
  },
  {
   "cell_type": "code",
   "execution_count": null,
   "id": "84689a5b",
   "metadata": {
    "id": "84689a5b",
    "outputId": "444ad291-fd63-4216-9886-aa639d8853d4"
   },
   "outputs": [
    {
     "data": {
      "text/html": [
       "<div>\n",
       "<style scoped>\n",
       "    .dataframe tbody tr th:only-of-type {\n",
       "        vertical-align: middle;\n",
       "    }\n",
       "\n",
       "    .dataframe tbody tr th {\n",
       "        vertical-align: top;\n",
       "    }\n",
       "\n",
       "    .dataframe thead th {\n",
       "        text-align: right;\n",
       "    }\n",
       "</style>\n",
       "<table border=\"1\" class=\"dataframe\">\n",
       "  <thead>\n",
       "    <tr style=\"text-align: right;\">\n",
       "      <th></th>\n",
       "      <th>review</th>\n",
       "      <th>sentiment</th>\n",
       "      <th>char_lenght</th>\n",
       "    </tr>\n",
       "  </thead>\n",
       "  <tbody>\n",
       "    <tr>\n",
       "      <th>0</th>\n",
       "      <td>One of the other reviewers has mentioned that ...</td>\n",
       "      <td>positive</td>\n",
       "      <td>1761</td>\n",
       "    </tr>\n",
       "    <tr>\n",
       "      <th>1</th>\n",
       "      <td>A wonderful little production. &lt;br /&gt;&lt;br /&gt;The...</td>\n",
       "      <td>positive</td>\n",
       "      <td>998</td>\n",
       "    </tr>\n",
       "    <tr>\n",
       "      <th>2</th>\n",
       "      <td>I thought this was a wonderful way to spend ti...</td>\n",
       "      <td>positive</td>\n",
       "      <td>926</td>\n",
       "    </tr>\n",
       "    <tr>\n",
       "      <th>3</th>\n",
       "      <td>Basically there's a family where a little boy ...</td>\n",
       "      <td>negative</td>\n",
       "      <td>748</td>\n",
       "    </tr>\n",
       "    <tr>\n",
       "      <th>4</th>\n",
       "      <td>Petter Mattei's \"Love in the Time of Money\" is...</td>\n",
       "      <td>positive</td>\n",
       "      <td>1317</td>\n",
       "    </tr>\n",
       "  </tbody>\n",
       "</table>\n",
       "</div>"
      ],
      "text/plain": [
       "                                              review sentiment  char_lenght\n",
       "0  One of the other reviewers has mentioned that ...  positive         1761\n",
       "1  A wonderful little production. <br /><br />The...  positive          998\n",
       "2  I thought this was a wonderful way to spend ti...  positive          926\n",
       "3  Basically there's a family where a little boy ...  negative          748\n",
       "4  Petter Mattei's \"Love in the Time of Money\" is...  positive         1317"
      ]
     },
     "execution_count": 6,
     "metadata": {},
     "output_type": "execute_result"
    }
   ],
   "source": [
    "data.head()\n",
    "# new feature has been added in our dataset"
   ]
  },
  {
   "cell_type": "markdown",
   "id": "a0606de7",
   "metadata": {},
   "source": [
    "### purpose of this feature  -->  char_lenght\n",
    "<p>i created this feature. to know better about the review.<br>\n",
    "    because according to the lenght distribution i will consider only those<br>\n",
    "    review which has minimum character length to the mean or median.\n",
    "    and mean and median i will select on the basis of char_lenght distribution.<br>\n",
    "    if it will be normally distributed then i will choose mean , otherwise i will go <br>\n",
    "    with median !\n",
    "</p>"
   ]
  },
  {
   "cell_type": "code",
   "execution_count": null,
   "id": "4eec6791",
   "metadata": {
    "id": "4eec6791",
    "outputId": "8502a145-d46f-4638-dec8-313dc5d9fd21"
   },
   "outputs": [
    {
     "data": {
      "image/png": "[encoded data removed]",
      "text/plain": [
       "<Figure size 1800x504 with 1 Axes>"
      ]
     },
     "metadata": {},
     "output_type": "display_data"
    }
   ],
   "source": [
    "## graphical distribution of my char_lenght of review\n",
    "\n",
    "sns.set(rc={'figure.figsize':(25,7)})\n",
    "sns.distplot(data['char_lenght'])\n",
    "plt.title('distribution of char_lenght ',fontdict={'fontsize':20})\n",
    "plt.axvline(data['char_lenght'].mean(),color='#d90429',linewidth=3)\n",
    "plt.axvline(data['char_lenght'].median(),color='#d90429',linewidth=3)\n",
    "plt.axvline(data['char_lenght'].std(),color='#85EA1A',linewidth=3)\n",
    "plt.show()"
   ]
  },
  {
   "cell_type": "markdown",
   "id": "6cedcfc5",
   "metadata": {
    "id": "6cedcfc5"
   },
   "source": [
    "### report\n",
    "<p>Now i can easily see, this is not normally distributed, wo i will go with the median value.<br>\n",
    "    by the vertical line you can easily see where the mean and median and standard deviation.\n",
    "</p>"
   ]
  },
  {
   "cell_type": "code",
   "execution_count": null,
   "id": "c848612a",
   "metadata": {
    "id": "c848612a",
    "outputId": "6c9b8e2d-4f54-487d-f19f-8456bca3552b"
   },
   "outputs": [
    {
     "data": {
      "text/html": [
       "<div>\n",
       "<style scoped>\n",
       "    .dataframe tbody tr th:only-of-type {\n",
       "        vertical-align: middle;\n",
       "    }\n",
       "\n",
       "    .dataframe tbody tr th {\n",
       "        vertical-align: top;\n",
       "    }\n",
       "\n",
       "    .dataframe thead th {\n",
       "        text-align: right;\n",
       "    }\n",
       "</style>\n",
       "<table border=\"1\" class=\"dataframe\">\n",
       "  <thead>\n",
       "    <tr style=\"text-align: right;\">\n",
       "      <th></th>\n",
       "      <th>char_lenght</th>\n",
       "    </tr>\n",
       "  </thead>\n",
       "  <tbody>\n",
       "    <tr>\n",
       "      <th>count</th>\n",
       "      <td>50000.000000</td>\n",
       "    </tr>\n",
       "    <tr>\n",
       "      <th>mean</th>\n",
       "      <td>1309.431020</td>\n",
       "    </tr>\n",
       "    <tr>\n",
       "      <th>std</th>\n",
       "      <td>989.728014</td>\n",
       "    </tr>\n",
       "    <tr>\n",
       "      <th>min</th>\n",
       "      <td>32.000000</td>\n",
       "    </tr>\n",
       "    <tr>\n",
       "      <th>25%</th>\n",
       "      <td>699.000000</td>\n",
       "    </tr>\n",
       "    <tr>\n",
       "      <th>50%</th>\n",
       "      <td>970.000000</td>\n",
       "    </tr>\n",
       "    <tr>\n",
       "      <th>75%</th>\n",
       "      <td>1590.250000</td>\n",
       "    </tr>\n",
       "    <tr>\n",
       "      <th>max</th>\n",
       "      <td>13704.000000</td>\n",
       "    </tr>\n",
       "  </tbody>\n",
       "</table>\n",
       "</div>"
      ],
      "text/plain": [
       "        char_lenght\n",
       "count  50000.000000\n",
       "mean    1309.431020\n",
       "std      989.728014\n",
       "min       32.000000\n",
       "25%      699.000000\n",
       "50%      970.000000\n",
       "75%     1590.250000\n",
       "max    13704.000000"
      ]
     },
     "execution_count": 32,
     "metadata": {},
     "output_type": "execute_result"
    }
   ],
   "source": [
    "# statistical representation of char_lenght feature\n",
    "data.describe()"
   ]
  },
  {
   "cell_type": "markdown",
   "id": "6e693285",
   "metadata": {
    "id": "6e693285"
   },
   "source": [
    "after removing some outliers point"
   ]
  },
  {
   "cell_type": "code",
   "execution_count": null,
   "id": "f0a9a83f",
   "metadata": {
    "id": "f0a9a83f",
    "outputId": "fcdc3d2b-9573-4db2-af0e-cf5b954535d9"
   },
   "outputs": [
    {
     "data": {
      "image/png": "[encoded data removed]",
      "text/plain": [
       "<Figure size 432x288 with 1 Axes>"
      ]
     },
     "metadata": {
      "needs_background": "light"
     },
     "output_type": "display_data"
    }
   ],
   "source": [
    "sns.distplot(data[data['char_lenght']<=data['char_lenght'].quantile(q= .90)]['char_lenght'])\n",
    "plt.show()"
   ]
  },
  {
   "cell_type": "code",
   "execution_count": null,
   "id": "c4f5b638",
   "metadata": {
    "id": "c4f5b638",
    "outputId": "29a796e6-3b31-4eaf-da9b-02911e3ece3b"
   },
   "outputs": [
    {
     "data": {
      "text/html": [
       "<div>\n",
       "<style scoped>\n",
       "    .dataframe tbody tr th:only-of-type {\n",
       "        vertical-align: middle;\n",
       "    }\n",
       "\n",
       "    .dataframe tbody tr th {\n",
       "        vertical-align: top;\n",
       "    }\n",
       "\n",
       "    .dataframe thead th {\n",
       "        text-align: right;\n",
       "    }\n",
       "</style>\n",
       "<table border=\"1\" class=\"dataframe\">\n",
       "  <thead>\n",
       "    <tr style=\"text-align: right;\">\n",
       "      <th></th>\n",
       "      <th>review</th>\n",
       "      <th>sentiment</th>\n",
       "      <th>char_lenght</th>\n",
       "    </tr>\n",
       "  </thead>\n",
       "  <tbody>\n",
       "    <tr>\n",
       "      <th>0</th>\n",
       "      <td>One of the other reviewers has mentioned that ...</td>\n",
       "      <td>positive</td>\n",
       "      <td>1761</td>\n",
       "    </tr>\n",
       "    <tr>\n",
       "      <th>1</th>\n",
       "      <td>A wonderful little production. &lt;br /&gt;&lt;br /&gt;The...</td>\n",
       "      <td>positive</td>\n",
       "      <td>998</td>\n",
       "    </tr>\n",
       "    <tr>\n",
       "      <th>2</th>\n",
       "      <td>I thought this was a wonderful way to spend ti...</td>\n",
       "      <td>positive</td>\n",
       "      <td>926</td>\n",
       "    </tr>\n",
       "    <tr>\n",
       "      <th>3</th>\n",
       "      <td>Basically there's a family where a little boy ...</td>\n",
       "      <td>negative</td>\n",
       "      <td>748</td>\n",
       "    </tr>\n",
       "    <tr>\n",
       "      <th>4</th>\n",
       "      <td>Petter Mattei's \"Love in the Time of Money\" is...</td>\n",
       "      <td>positive</td>\n",
       "      <td>1317</td>\n",
       "    </tr>\n",
       "  </tbody>\n",
       "</table>\n",
       "</div>"
      ],
      "text/plain": [
       "                                              review sentiment  char_lenght\n",
       "0  One of the other reviewers has mentioned that ...  positive         1761\n",
       "1  A wonderful little production. <br /><br />The...  positive          998\n",
       "2  I thought this was a wonderful way to spend ti...  positive          926\n",
       "3  Basically there's a family where a little boy ...  negative          748\n",
       "4  Petter Mattei's \"Love in the Time of Money\" is...  positive         1317"
      ]
     },
     "execution_count": 6,
     "metadata": {},
     "output_type": "execute_result"
    }
   ],
   "source": [
    "new_data = data[data['char_lenght']<=data['char_lenght'].quantile(q= .90)]\n",
    "new_data.head()"
   ]
  },
  {
   "cell_type": "code",
   "execution_count": null,
   "id": "766a76b2",
   "metadata": {
    "id": "766a76b2",
    "outputId": "b9789c42-1567-4264-84bb-6b8a58ef22ea"
   },
   "outputs": [
    {
     "data": {
      "text/plain": [
       "(45002, 3)"
      ]
     },
     "execution_count": 7,
     "metadata": {},
     "output_type": "execute_result"
    }
   ],
   "source": [
    "new_data.shape"
   ]
  },
  {
   "cell_type": "markdown",
   "id": "53a3b85d",
   "metadata": {
    "id": "53a3b85d"
   },
   "source": [
    "# to declare a range of review for our model\n",
    "and now i has performed some stats operation, so i can easily say that this not normally distributed\n",
    "so i will choose median range."
   ]
  },
  {
   "cell_type": "markdown",
   "id": "5ffb68c2",
   "metadata": {
    "id": "5ffb68c2"
   },
   "source": [
    "i choosed mean, i know, i should choose median. but both are equal to each other as i seen in distribution\n",
    "that,s why i choosed mean."
   ]
  },
  {
   "cell_type": "code",
   "execution_count": null,
   "id": "c24f0888",
   "metadata": {
    "id": "c24f0888",
    "outputId": "45ba5701-740e-4b06-d286-d1c987d6e163"
   },
   "outputs": [
    {
     "data": {
      "text/html": [
       "<div>\n",
       "<style scoped>\n",
       "    .dataframe tbody tr th:only-of-type {\n",
       "        vertical-align: middle;\n",
       "    }\n",
       "\n",
       "    .dataframe tbody tr th {\n",
       "        vertical-align: top;\n",
       "    }\n",
       "\n",
       "    .dataframe thead th {\n",
       "        text-align: right;\n",
       "    }\n",
       "</style>\n",
       "<table border=\"1\" class=\"dataframe\">\n",
       "  <thead>\n",
       "    <tr style=\"text-align: right;\">\n",
       "      <th></th>\n",
       "      <th>review</th>\n",
       "      <th>sentiment</th>\n",
       "    </tr>\n",
       "  </thead>\n",
       "  <tbody>\n",
       "    <tr>\n",
       "      <th>3</th>\n",
       "      <td>Basically there's a family where a little boy ...</td>\n",
       "      <td>negative</td>\n",
       "    </tr>\n",
       "    <tr>\n",
       "      <th>5</th>\n",
       "      <td>Probably my all-time favorite movie, a story o...</td>\n",
       "      <td>positive</td>\n",
       "    </tr>\n",
       "    <tr>\n",
       "      <th>6</th>\n",
       "      <td>I sure would like to see a resurrection of a u...</td>\n",
       "      <td>positive</td>\n",
       "    </tr>\n",
       "    <tr>\n",
       "      <th>8</th>\n",
       "      <td>Encouraged by the positive comments about this...</td>\n",
       "      <td>negative</td>\n",
       "    </tr>\n",
       "    <tr>\n",
       "      <th>9</th>\n",
       "      <td>If you like original gut wrenching laughter yo...</td>\n",
       "      <td>positive</td>\n",
       "    </tr>\n",
       "  </tbody>\n",
       "</table>\n",
       "</div>"
      ],
      "text/plain": [
       "                                              review sentiment\n",
       "3  Basically there's a family where a little boy ...  negative\n",
       "5  Probably my all-time favorite movie, a story o...  positive\n",
       "6  I sure would like to see a resurrection of a u...  positive\n",
       "8  Encouraged by the positive comments about this...  negative\n",
       "9  If you like original gut wrenching laughter yo...  positive"
      ]
     },
     "execution_count": 8,
     "metadata": {},
     "output_type": "execute_result"
    }
   ],
   "source": [
    "new_data = new_data[new_data['char_lenght']<= new_data['char_lenght'].median()]\n",
    "data2 = new_data[['review','sentiment']]\n",
    "data2.head()"
   ]
  },
  {
   "cell_type": "code",
   "execution_count": null,
   "id": "a22adafa",
   "metadata": {
    "id": "a22adafa",
    "outputId": "4f63fa6f-5444-4ae4-d131-180aa2e38e8b"
   },
   "outputs": [
    {
     "data": {
      "text/plain": [
       "(22512, 2)"
      ]
     },
     "execution_count": 9,
     "metadata": {},
     "output_type": "execute_result"
    }
   ],
   "source": [
    "data2.shape"
   ]
  },
  {
   "cell_type": "code",
   "execution_count": null,
   "id": "8d10131a",
   "metadata": {
    "id": "8d10131a",
    "outputId": "272300ce-6b3d-4b01-a533-33fa3310af81"
   },
   "outputs": [
    {
     "data": {
      "image/png": "[encoded data removed]",
      "text/plain": [
       "<Figure size 576x576 with 1 Axes>"
      ]
     },
     "metadata": {},
     "output_type": "display_data"
    }
   ],
   "source": [
    "values = list(data2['sentiment'].value_counts().values)\n",
    "key = list(data2['sentiment'].value_counts().keys())\n",
    "plt.figure(figsize=(8,8))\n",
    "ex = [0.1,0]\n",
    "plt.pie(values,labels=key,shadow=True,wedgeprops={'edgecolor':'k','lw':'3'},explode=ex,startangle=90,autopct='%1.2f%%')\n",
    "plt.title('still Balanced Dataset ',fontsize = 24)\n",
    "plt.show()\n",
    "\n",
    "# still balanced dataset but we loosed some data point."
   ]
  },
  {
   "cell_type": "code",
   "execution_count": null,
   "id": "28563fa8",
   "metadata": {
    "id": "28563fa8",
    "outputId": "f1a9e497-4241-45ab-a475-776d40a0ae72"
   },
   "outputs": [
    {
     "data": {
      "text/plain": [
       "positive    11363\n",
       "negative    11149\n",
       "Name: sentiment, dtype: int64"
      ]
     },
     "execution_count": 12,
     "metadata": {},
     "output_type": "execute_result"
    }
   ],
   "source": [
    "data2['sentiment'].value_counts()"
   ]
  },
  {
   "cell_type": "code",
   "execution_count": null,
   "id": "19e8e8c2",
   "metadata": {
    "id": "19e8e8c2",
    "outputId": "826dfb68-27dd-4acd-af83-7aa7a5ad4757"
   },
   "outputs": [
    {
     "data": {
      "text/html": [
       "<div>\n",
       "<style scoped>\n",
       "    .dataframe tbody tr th:only-of-type {\n",
       "        vertical-align: middle;\n",
       "    }\n",
       "\n",
       "    .dataframe tbody tr th {\n",
       "        vertical-align: top;\n",
       "    }\n",
       "\n",
       "    .dataframe thead th {\n",
       "        text-align: right;\n",
       "    }\n",
       "</style>\n",
       "<table border=\"1\" class=\"dataframe\">\n",
       "  <thead>\n",
       "    <tr style=\"text-align: right;\">\n",
       "      <th></th>\n",
       "      <th>review</th>\n",
       "      <th>sentiment</th>\n",
       "    </tr>\n",
       "  </thead>\n",
       "  <tbody>\n",
       "    <tr>\n",
       "      <th>0</th>\n",
       "      <td>Basically there's a family where a little boy ...</td>\n",
       "      <td>negative</td>\n",
       "    </tr>\n",
       "    <tr>\n",
       "      <th>1</th>\n",
       "      <td>Probably my all-time favorite movie, a story o...</td>\n",
       "      <td>positive</td>\n",
       "    </tr>\n",
       "    <tr>\n",
       "      <th>2</th>\n",
       "      <td>I sure would like to see a resurrection of a u...</td>\n",
       "      <td>positive</td>\n",
       "    </tr>\n",
       "    <tr>\n",
       "      <th>3</th>\n",
       "      <td>Encouraged by the positive comments about this...</td>\n",
       "      <td>negative</td>\n",
       "    </tr>\n",
       "    <tr>\n",
       "      <th>4</th>\n",
       "      <td>If you like original gut wrenching laughter yo...</td>\n",
       "      <td>positive</td>\n",
       "    </tr>\n",
       "  </tbody>\n",
       "</table>\n",
       "</div>"
      ],
      "text/plain": [
       "                                              review sentiment\n",
       "0  Basically there's a family where a little boy ...  negative\n",
       "1  Probably my all-time favorite movie, a story o...  positive\n",
       "2  I sure would like to see a resurrection of a u...  positive\n",
       "3  Encouraged by the positive comments about this...  negative\n",
       "4  If you like original gut wrenching laughter yo...  positive"
      ]
     },
     "execution_count": 13,
     "metadata": {},
     "output_type": "execute_result"
    }
   ],
   "source": [
    "data2 = data2.reset_index().drop('index',axis =1)\n",
    "data2.head()"
   ]
  },
  {
   "cell_type": "markdown",
   "id": "e4b9d92e",
   "metadata": {
    "id": "e4b9d92e"
   },
   "source": [
    "## Text-Preprocessing"
   ]
  },
  {
   "cell_type": "code",
   "execution_count": null,
   "id": "d75af7a6",
   "metadata": {
    "id": "d75af7a6"
   },
   "outputs": [],
   "source": [
    "# to remove stopwords and performe stemming\n",
    "\n",
    "ps = PorterStemmer()\n",
    "for i in range(len(data2)):\n",
    "    content = re.sub('[^a-zA-Z]',' ',data2['review'][i])\n",
    "    content = content.lower()\n",
    "    ls_of_word = nltk.word_tokenize(content)\n",
    "    removed_stopwords = [ps.stem(word) for word in ls_of_word if word not in set(stopwords.words('english'))]\n",
    "    data2['review'][i] = ' '.join(removed_stopwords)\n",
    "    \n"
   ]
  },
  {
   "cell_type": "code",
   "execution_count": null,
   "id": "d55e87d0",
   "metadata": {
    "id": "d55e87d0",
    "outputId": "819c19fe-bf62-4446-9b46-46dccb982462"
   },
   "outputs": [
    {
     "data": {
      "text/html": [
       "<div>\n",
       "<style scoped>\n",
       "    .dataframe tbody tr th:only-of-type {\n",
       "        vertical-align: middle;\n",
       "    }\n",
       "\n",
       "    .dataframe tbody tr th {\n",
       "        vertical-align: top;\n",
       "    }\n",
       "\n",
       "    .dataframe thead th {\n",
       "        text-align: right;\n",
       "    }\n",
       "</style>\n",
       "<table border=\"1\" class=\"dataframe\">\n",
       "  <thead>\n",
       "    <tr style=\"text-align: right;\">\n",
       "      <th></th>\n",
       "      <th>review</th>\n",
       "      <th>sentiment</th>\n",
       "    </tr>\n",
       "  </thead>\n",
       "  <tbody>\n",
       "    <tr>\n",
       "      <th>0</th>\n",
       "      <td>basic famili littl boy jake think zombi closet...</td>\n",
       "      <td>negative</td>\n",
       "    </tr>\n",
       "    <tr>\n",
       "      <th>1</th>\n",
       "      <td>probabl time favorit movi stori selfless sacri...</td>\n",
       "      <td>positive</td>\n",
       "    </tr>\n",
       "    <tr>\n",
       "      <th>2</th>\n",
       "      <td>sure would like see resurrect date seahunt ser...</td>\n",
       "      <td>positive</td>\n",
       "    </tr>\n",
       "    <tr>\n",
       "      <th>3</th>\n",
       "      <td>encourag posit comment film look forward watch...</td>\n",
       "      <td>negative</td>\n",
       "    </tr>\n",
       "    <tr>\n",
       "      <th>4</th>\n",
       "      <td>like origin gut wrench laughter like movi youn...</td>\n",
       "      <td>positive</td>\n",
       "    </tr>\n",
       "  </tbody>\n",
       "</table>\n",
       "</div>"
      ],
      "text/plain": [
       "                                              review sentiment\n",
       "0  basic famili littl boy jake think zombi closet...  negative\n",
       "1  probabl time favorit movi stori selfless sacri...  positive\n",
       "2  sure would like see resurrect date seahunt ser...  positive\n",
       "3  encourag posit comment film look forward watch...  negative\n",
       "4  like origin gut wrench laughter like movi youn...  positive"
      ]
     },
     "execution_count": 15,
     "metadata": {},
     "output_type": "execute_result"
    }
   ],
   "source": [
    "data2.head()"
   ]
  },
  {
   "cell_type": "code",
   "execution_count": null,
   "id": "2b153892",
   "metadata": {
    "id": "2b153892",
    "outputId": "d6299dba-d45e-4d7b-dd19-1aa988fedd9b"
   },
   "outputs": [
    {
     "name": "stdout",
     "output_type": "stream",
     "text": [
      "basic famili littl boy jake think zombi closet parent fight time br br movi slower soap opera suddenli jake decid becom rambo kill zombi br br ok first go make film must decid thriller drama drama movi watchabl parent divorc argu like real life jake closet total ruin film expect see boogeyman similar movi instead watch drama meaningless thriller spot br br well play parent descent dialog shot jake ignor\n"
     ]
    }
   ],
   "source": [
    "print(data2['review'][0])"
   ]
  },
  {
   "cell_type": "code",
   "execution_count": null,
   "id": "71c43f4b",
   "metadata": {
    "id": "71c43f4b"
   },
   "outputs": [],
   "source": [
    "# define the vocabulary size\n",
    "vocabulary_size = 20000\n"
   ]
  },
  {
   "cell_type": "code",
   "execution_count": 1,
   "id": "c28e8153",
   "metadata": {
    "id": "c28e8153",
    "outputId": "d7e7b8f8-7651-49b3-9fe7-f5632d77b618"
   },
   "outputs": [],
   "source": [
    "one_hoted = [one_hot(reviw,vocabulary_size) for reviw in data2['review']]\n",
    "one_hoted\n",
    "# performing one hote encoding"
   ]
  },
  {
   "cell_type": "code",
   "execution_count": null,
   "id": "552f201c",
   "metadata": {
    "id": "552f201c",
    "outputId": "6d1e100f-be89-4af2-d464-c3f8cdbb01bb"
   },
   "outputs": [
    {
     "data": {
      "text/plain": [
       "(22512, 22512)"
      ]
     },
     "execution_count": 5,
     "metadata": {},
     "output_type": "execute_result"
    }
   ],
   "source": [
    "len(one_hoted),data2.shape[0]    # no. of data point equal"
   ]
  },
  {
   "cell_type": "code",
   "execution_count": null,
   "id": "f78050cc",
   "metadata": {
    "id": "f78050cc",
    "outputId": "17777941-6c24-4199-d71a-a11e7b7c0afb"
   },
   "outputs": [
    {
     "data": {
      "text/plain": [
       "(70, 70)"
      ]
     },
     "execution_count": 32,
     "metadata": {},
     "output_type": "execute_result"
    }
   ],
   "source": [
    "rang = data2['review'][0].split()\n",
    "len(one_hoted[0]) ,len(rang)       # no. of word equal"
   ]
  },
  {
   "cell_type": "markdown",
   "id": "64f3f6c4",
   "metadata": {
    "id": "64f3f6c4"
   },
   "source": [
    "## do pad_sequnce to equalize the shape of the sentence"
   ]
  },
  {
   "cell_type": "code",
   "execution_count": null,
   "id": "652a4b29",
   "metadata": {
    "id": "652a4b29"
   },
   "outputs": [],
   "source": [
    "def max_len_word_in_sent(data):\n",
    "    len_of_list = []\n",
    "    for i in range(len(data)):\n",
    "        list_of_word = data['review'][i].split()\n",
    "        len_of_list.append(len(list_of_word))\n",
    "    return(max(len_of_list))\n"
   ]
  },
  {
   "cell_type": "code",
   "execution_count": null,
   "id": "99e80d9c",
   "metadata": {
    "id": "99e80d9c",
    "outputId": "e70b2b33-d854-4772-ee9b-e38310e137d3"
   },
   "outputs": [
    {
     "data": {
      "text/plain": [
       "110"
      ]
     },
     "execution_count": 44,
     "metadata": {},
     "output_type": "execute_result"
    }
   ],
   "source": [
    "max_review_lenght = max_len_word_in_sent(data2)\n",
    "max_review_lenght"
   ]
  },
  {
   "cell_type": "code",
   "execution_count": null,
   "id": "422934b3",
   "metadata": {
    "id": "422934b3",
    "outputId": "c2c93111-a3da-4c1b-fe86-490a6067c4a9"
   },
   "outputs": [
    {
     "data": {
      "text/plain": [
       "array([[    0,     0,     0, ..., 17431, 16771, 17357],\n",
       "       [    0,     0,     0, ...,  2655, 14727,  1118],\n",
       "       [    0,     0,     0, ..., 18831,  7814,  1052],\n",
       "       ...,\n",
       "       [    0,     0,     0, ...,  2092,  9156,  9156],\n",
       "       [    0,     0,     0, ..., 13895, 18345,  7859],\n",
       "       [    0,     0,     0, ..., 10662, 18935,  1118]])"
      ]
     },
     "execution_count": 21,
     "metadata": {},
     "output_type": "execute_result"
    }
   ],
   "source": [
    "data3  = pad_sequences(one_hoted,padding='pre',maxlen=max_review_lenght)\n",
    "data3"
   ]
  },
  {
   "cell_type": "code",
   "execution_count": null,
   "id": "9d9d5422",
   "metadata": {
    "id": "9d9d5422",
    "outputId": "3b47e671-e330-4800-96bd-cd3ee2433575"
   },
   "outputs": [
    {
     "data": {
      "text/plain": [
       "110"
      ]
     },
     "execution_count": 23,
     "metadata": {},
     "output_type": "execute_result"
    }
   ],
   "source": [
    "len(data3[258])   # now all review has equal lenght"
   ]
  },
  {
   "cell_type": "code",
   "execution_count": null,
   "id": "f6576157",
   "metadata": {
    "id": "f6576157",
    "outputId": "99e30653-f434-4a3d-b882-21de34494b72"
   },
   "outputs": [
    {
     "data": {
      "text/plain": [
       "22512"
      ]
     },
     "execution_count": 24,
     "metadata": {},
     "output_type": "execute_result"
    }
   ],
   "source": [
    "len(data3)       # all are review one hoted"
   ]
  },
  {
   "cell_type": "code",
   "execution_count": null,
   "id": "a0db70e2",
   "metadata": {
    "id": "a0db70e2"
   },
   "outputs": [],
   "source": [
    "np.save(file='Data/onehotted.npy',arr=data3)   # to save the onehotted data"
   ]
  },
  {
   "cell_type": "markdown",
   "id": "6e07a94a",
   "metadata": {
    "id": "6e07a94a"
   },
   "source": [
    "## to labelize the y data"
   ]
  },
  {
   "cell_type": "code",
   "execution_count": null,
   "id": "9c582f0d",
   "metadata": {
    "id": "9c582f0d",
    "outputId": "20e5c34c-8b09-499c-9d3e-12a3a40e04c1"
   },
   "outputs": [
    {
     "data": {
      "text/plain": [
       "{'positive': 1, 'negative': 0}"
      ]
     },
     "execution_count": 27,
     "metadata": {},
     "output_type": "execute_result"
    }
   ],
   "source": [
    "label_encode = dict(list(zip(list(data2['sentiment'].value_counts().index),[1,0])))\n",
    "label_encode"
   ]
  },
  {
   "cell_type": "code",
   "execution_count": null,
   "id": "2eb0cff7",
   "metadata": {
    "id": "2eb0cff7"
   },
   "outputs": [],
   "source": [
    "y = data2['sentiment'].map(label_encode)"
   ]
  },
  {
   "cell_type": "code",
   "execution_count": null,
   "id": "7125e4f9",
   "metadata": {
    "id": "7125e4f9",
    "outputId": "93129b9a-2350-4f3d-df37-f1d4db6f49c1"
   },
   "outputs": [
    {
     "data": {
      "text/plain": [
       "1    11363\n",
       "0    11149\n",
       "Name: sentiment, dtype: int64"
      ]
     },
     "execution_count": 29,
     "metadata": {},
     "output_type": "execute_result"
    }
   ],
   "source": [
    "y.value_counts()"
   ]
  },
  {
   "cell_type": "markdown",
   "id": "f99c0d33",
   "metadata": {
    "id": "f99c0d33"
   },
   "source": [
    "## set the X and Y variable"
   ]
  },
  {
   "cell_type": "code",
   "execution_count": null,
   "id": "332a2aa5",
   "metadata": {
    "id": "332a2aa5"
   },
   "outputs": [],
   "source": [
    "x = data3\n",
    "y = y "
   ]
  },
  {
   "cell_type": "code",
   "execution_count": null,
   "id": "bd8a6858",
   "metadata": {
    "id": "bd8a6858",
    "outputId": "64e8b0b8-52e0-4bff-e806-996957f550fc"
   },
   "outputs": [
    {
     "data": {
      "text/plain": [
       "((22512, 110), (22512,))"
      ]
     },
     "execution_count": 31,
     "metadata": {},
     "output_type": "execute_result"
    }
   ],
   "source": [
    "x.shape,y.shape"
   ]
  },
  {
   "cell_type": "code",
   "execution_count": null,
   "id": "e8fab5a5",
   "metadata": {
    "id": "e8fab5a5"
   },
   "outputs": [],
   "source": [
    "# to save independent and dependent data\n",
    "pickle.dump(x,open('Data/final_data/x_data.pkl','wb'))\n",
    "pickle.dump(y,open('Data/final_data/y_data','wb'))\n"
   ]
  },
  {
   "cell_type": "code",
   "execution_count": 4,
   "id": "ezXIl2sS7vSb",
   "metadata": {
    "executionInfo": {
     "elapsed": 4,
     "status": "ok",
     "timestamp": 1677235584643,
     "user": {
      "displayName": "Ranjit Singh",
      "userId": "11702740849844909823"
     },
     "user_tz": -330
    },
    "id": "ezXIl2sS7vSb"
   },
   "outputs": [],
   "source": [
    "x = pickle.load(open('Data/final_data/x_data.pkl','rb'))\n",
    "y = pickle.load(open('Data/final_data/y_data','rb'))"
   ]
  },
  {
   "cell_type": "markdown",
   "id": "870f0581",
   "metadata": {
    "id": "870f0581"
   },
   "source": [
    "## Train test split"
   ]
  },
  {
   "cell_type": "code",
   "execution_count": 5,
   "id": "d103fb38",
   "metadata": {
    "executionInfo": {
     "elapsed": 832,
     "status": "ok",
     "timestamp": 1677235590593,
     "user": {
      "displayName": "Ranjit Singh",
      "userId": "11702740849844909823"
     },
     "user_tz": -330
    },
    "id": "d103fb38"
   },
   "outputs": [],
   "source": [
    "x_train,x_test,y_train,y_test = train_test_split(x,y,test_size=0.25,random_state=42)"
   ]
  },
  {
   "cell_type": "code",
   "execution_count": 6,
   "id": "e7e8d975",
   "metadata": {
    "colab": {
     "base_uri": "https://localhost:8080/"
    },
    "executionInfo": {
     "elapsed": 536,
     "status": "ok",
     "timestamp": 1677235595437,
     "user": {
      "displayName": "Ranjit Singh",
      "userId": "11702740849844909823"
     },
     "user_tz": -330
    },
    "id": "e7e8d975",
    "outputId": "5831a414-a570-4d27-e9ed-5260113bf4fb"
   },
   "outputs": [
    {
     "data": {
      "text/plain": [
       "((16884, 110), (16884,), (5628, 110), (5628,))"
      ]
     },
     "execution_count": 6,
     "metadata": {},
     "output_type": "execute_result"
    }
   ],
   "source": [
    "x_train.shape,y_train.shape,x_test.shape,y_test.shape"
   ]
  },
  {
   "cell_type": "code",
   "execution_count": 7,
   "id": "23f3cee6",
   "metadata": {
    "executionInfo": {
     "elapsed": 532,
     "status": "ok",
     "timestamp": 1677235528649,
     "user": {
      "displayName": "Ranjit Singh",
      "userId": "11702740849844909823"
     },
     "user_tz": -330
    },
    "id": "23f3cee6"
   },
   "outputs": [],
   "source": [
    "vocabulary_size = 20000\n",
    "max_review_lenght = 110"
   ]
  },
  {
   "cell_type": "code",
   "execution_count": 8,
   "id": "8ca05da8",
   "metadata": {
    "id": "8ca05da8",
    "outputId": "46992c8a-429f-4305-df7e-a44fd11a139d"
   },
   "outputs": [
    {
     "data": {
      "text/plain": [
       "(20000, 110)"
      ]
     },
     "execution_count": 8,
     "metadata": {},
     "output_type": "execute_result"
    }
   ],
   "source": [
    "vocabulary_size,max_review_lenght"
   ]
  },
  {
   "cell_type": "markdown",
   "id": "e25c008c",
   "metadata": {
    "id": "e25c008c"
   },
   "source": [
    "## Now defining model"
   ]
  },
  {
   "cell_type": "code",
   "execution_count": 9,
   "id": "7950e24b",
   "metadata": {
    "executionInfo": {
     "elapsed": 522,
     "status": "ok",
     "timestamp": 1677238015328,
     "user": {
      "displayName": "Ranjit Singh",
      "userId": "11702740849844909823"
     },
     "user_tz": -330
    },
    "id": "7950e24b"
   },
   "outputs": [],
   "source": [
    "model  = Sequential()\n",
    "model.add(Embedding(vocabulary_size,1000,input_length=max_review_lenght))\n",
    "model.add(Dropout(0.5))\n",
    "model.add(LSTM(units = 55))\n",
    "model.add(Dropout(0.5))\n",
    "model.add(Dense(1,activation='sigmoid'))\n",
    "model.compile(loss='binary_crossentropy',optimizer = 'adam',metrics=['accuracy'])"
   ]
  },
  {
   "cell_type": "markdown",
   "id": "24284KZd_AEt",
   "metadata": {
    "id": "24284KZd_AEt"
   },
   "source": [
    "second model defining"
   ]
  },
  {
   "cell_type": "code",
   "execution_count": 10,
   "id": "4badedcb",
   "metadata": {
    "colab": {
     "base_uri": "https://localhost:8080/"
    },
    "executionInfo": {
     "elapsed": 791,
     "status": "ok",
     "timestamp": 1677237694502,
     "user": {
      "displayName": "Ranjit Singh",
      "userId": "11702740849844909823"
     },
     "user_tz": -330
    },
    "id": "4badedcb",
    "outputId": "6adc8387-5a22-43f0-8f65-4994f674d4a0"
   },
   "outputs": [
    {
     "name": "stdout",
     "output_type": "stream",
     "text": [
      "Model: \"sequential\"\n",
      "_________________________________________________________________\n",
      " Layer (type)                Output Shape              Param #   \n",
      "=================================================================\n",
      " embedding (Embedding)       (None, 110, 1000)         20000000  \n",
      "                                                                 \n",
      " dropout (Dropout)           (None, 110, 1000)         0         \n",
      "                                                                 \n",
      " lstm (LSTM)                 (None, 55)                232320    \n",
      "                                                                 \n",
      " dropout_1 (Dropout)         (None, 55)                0         \n",
      "                                                                 \n",
      " dense (Dense)               (None, 1)                 56        \n",
      "                                                                 \n",
      "=================================================================\n",
      "Total params: 20,232,376\n",
      "Trainable params: 20,232,376\n",
      "Non-trainable params: 0\n",
      "_________________________________________________________________\n"
     ]
    }
   ],
   "source": [
    "model.summary()"
   ]
  },
  {
   "cell_type": "code",
   "execution_count": 12,
   "id": "t4v_ZifH86Qc",
   "metadata": {
    "colab": {
     "base_uri": "https://localhost:8080/"
    },
    "executionInfo": {
     "elapsed": 86160,
     "status": "ok",
     "timestamp": 1677238110775,
     "user": {
      "displayName": "Ranjit Singh",
      "userId": "11702740849844909823"
     },
     "user_tz": -330
    },
    "id": "t4v_ZifH86Qc",
    "outputId": "a38a46ae-fc84-4827-b49e-77692ca764d9"
   },
   "outputs": [
    {
     "name": "stdout",
     "output_type": "stream",
     "text": [
      "Epoch 1/5\n",
      "212/212 [==============================] - 177s 821ms/step - loss: 0.4014 - accuracy: 0.8197 - val_loss: 0.3149 - val_accuracy: 0.8687\n",
      "Epoch 2/5\n",
      "212/212 [==============================] - 166s 781ms/step - loss: 0.2038 - accuracy: 0.9257 - val_loss: 0.3215 - val_accuracy: 0.8813\n",
      "Epoch 3/5\n",
      "212/212 [==============================] - 167s 789ms/step - loss: 0.1300 - accuracy: 0.9554 - val_loss: 0.3505 - val_accuracy: 0.8674\n",
      "Epoch 4/5\n",
      "212/212 [==============================] - 164s 774ms/step - loss: 0.0985 - accuracy: 0.9669 - val_loss: 0.4072 - val_accuracy: 0.8641\n",
      "Epoch 5/5\n",
      "212/212 [==============================] - 154s 729ms/step - loss: 0.0863 - accuracy: 0.9709 - val_loss: 0.4514 - val_accuracy: 0.8607\n"
     ]
    }
   ],
   "source": [
    "model_history = model.fit(x_train,y_train,epochs=5,batch_size=80,validation_data=(x_test,y_test))"
   ]
  },
  {
   "cell_type": "markdown",
   "id": "b8fb6c6f",
   "metadata": {},
   "source": [
    "### save the model"
   ]
  },
  {
   "cell_type": "code",
   "execution_count": 13,
   "id": "o77tyl7QKfBf",
   "metadata": {
    "executionInfo": {
     "elapsed": 1375,
     "status": "ok",
     "timestamp": 1677238125778,
     "user": {
      "displayName": "Ranjit Singh",
      "userId": "11702740849844909823"
     },
     "user_tz": -330
    },
    "id": "o77tyl7QKfBf"
   },
   "outputs": [],
   "source": [
    "model.save('fellowship/model/lstm86.h5')"
   ]
  },
  {
   "cell_type": "code",
   "execution_count": 18,
   "id": "7fffff20",
   "metadata": {
    "colab": {
     "base_uri": "https://localhost:8080/",
     "height": 282
    },
    "executionInfo": {
     "elapsed": 1630,
     "status": "ok",
     "timestamp": 1677236602522,
     "user": {
      "displayName": "Ranjit Singh",
      "userId": "11702740849844909823"
     },
     "user_tz": -330
    },
    "id": "7fffff20",
    "outputId": "6b1a3058-c4d7-4845-807a-c85f6cde6380"
   },
   "outputs": [
    {
     "data": {
      "text/plain": [
       "<AxesSubplot:>"
      ]
     },
     "execution_count": 18,
     "metadata": {},
     "output_type": "execute_result"
    },
    {
     "data": {
      "image/png": "[encoded data removed]",
      "text/plain": [
       "<Figure size 432x288 with 1 Axes>"
      ]
     },
     "metadata": {
      "needs_background": "light"
     },
     "output_type": "display_data"
    }
   ],
   "source": [
    "pd.DataFrame(model_history.history)[['loss','accuracy']].plot()"
   ]
  },
  {
   "cell_type": "code",
   "execution_count": 16,
   "id": "Q_doY2Mo_-Jz",
   "metadata": {
    "colab": {
     "base_uri": "https://localhost:8080/",
     "height": 282
    },
    "executionInfo": {
     "elapsed": 592,
     "status": "ok",
     "timestamp": 1677237588046,
     "user": {
      "displayName": "Ranjit Singh",
      "userId": "11702740849844909823"
     },
     "user_tz": -330
    },
    "id": "Q_doY2Mo_-Jz",
    "outputId": "0d084fbf-3b04-4d2b-cbdb-695060dc8232"
   },
   "outputs": [
    {
     "data": {
      "text/plain": [
       "<AxesSubplot:>"
      ]
     },
     "execution_count": 16,
     "metadata": {},
     "output_type": "execute_result"
    },
    {
     "data": {
      "image/png": "[encoded data removed]",
      "text/plain": [
       "<Figure size 432x288 with 1 Axes>"
      ]
     },
     "metadata": {
      "needs_background": "light"
     },
     "output_type": "display_data"
    }
   ],
   "source": [
    "pd.DataFrame(model_history.history)[['accuracy','val_accuracy']].plot()\n"
   ]
  },
  {
   "cell_type": "code",
   "execution_count": 17,
   "id": "yg2PqS9NDJUx",
   "metadata": {
    "colab": {
     "base_uri": "https://localhost:8080/",
     "height": 282
    },
    "executionInfo": {
     "elapsed": 624,
     "status": "ok",
     "timestamp": 1677235895853,
     "user": {
      "displayName": "Ranjit Singh",
      "userId": "11702740849844909823"
     },
     "user_tz": -330
    },
    "id": "yg2PqS9NDJUx",
    "outputId": "11008820-11f3-46e9-8e9e-0fd5f41e85fb"
   },
   "outputs": [
    {
     "data": {
      "text/plain": [
       "<AxesSubplot:>"
      ]
     },
     "execution_count": 17,
     "metadata": {},
     "output_type": "execute_result"
    },
    {
     "data": {
      "image/png": "[encoded data removed]",
      "text/plain": [
       "<Figure size 432x288 with 1 Axes>"
      ]
     },
     "metadata": {
      "needs_background": "light"
     },
     "output_type": "display_data"
    }
   ],
   "source": [
    "pd.DataFrame(model_history.history)[['loss','val_loss']].plot()\n"
   ]
  },
  {
   "cell_type": "markdown",
   "id": "22e05a27",
   "metadata": {},
   "source": [
    "### take the prediction"
   ]
  },
  {
   "cell_type": "code",
   "execution_count": 49,
   "id": "8NdYINX9IWwL",
   "metadata": {
    "colab": {
     "base_uri": "https://localhost:8080/"
    },
    "executionInfo": {
     "elapsed": 1879,
     "status": "ok",
     "timestamp": 1677238140206,
     "user": {
      "displayName": "Ranjit Singh",
      "userId": "11702740849844909823"
     },
     "user_tz": -330
    },
    "id": "8NdYINX9IWwL",
    "outputId": "f478b238-dd03-4fa1-9035-28489b041f3d"
   },
   "outputs": [
    {
     "name": "stdout",
     "output_type": "stream",
     "text": [
      "176/176 [==============================] - 1s 4ms/step\n"
     ]
    }
   ],
   "source": [
    "y_pred = model.predict(x_test)"
   ]
  },
  {
   "cell_type": "code",
   "execution_count": 50,
   "id": "kuXGNvZGIep4",
   "metadata": {
    "colab": {
     "base_uri": "https://localhost:8080/"
    },
    "executionInfo": {
     "elapsed": 515,
     "status": "ok",
     "timestamp": 1677238144744,
     "user": {
      "displayName": "Ranjit Singh",
      "userId": "11702740849844909823"
     },
     "user_tz": -330
    },
    "id": "kuXGNvZGIep4",
    "outputId": "ef71283e-480f-42d7-bb7d-59cdf541c31c"
   },
   "outputs": [
    {
     "data": {
      "text/plain": [
       "array([[False],\n",
       "       [False],\n",
       "       [ True],\n",
       "       ...,\n",
       "       [ True],\n",
       "       [ True],\n",
       "       [False]])"
      ]
     },
     "execution_count": 50,
     "metadata": {},
     "output_type": "execute_result"
    }
   ],
   "source": [
    "y_pre = y_pred>0.5\n",
    "y_pre"
   ]
  },
  {
   "cell_type": "markdown",
   "id": "a6ff92e2",
   "metadata": {},
   "source": [
    "### confusion matrix"
   ]
  },
  {
   "cell_type": "code",
   "execution_count": 51,
   "id": "m4dZMrSfI9R4",
   "metadata": {
    "colab": {
     "base_uri": "https://localhost:8080/"
    },
    "executionInfo": {
     "elapsed": 539,
     "status": "ok",
     "timestamp": 1677238150844,
     "user": {
      "displayName": "Ranjit Singh",
      "userId": "11702740849844909823"
     },
     "user_tz": -330
    },
    "id": "m4dZMrSfI9R4",
    "outputId": "a7b614de-ebb3-4761-c092-48352465e35b"
   },
   "outputs": [
    {
     "data": {
      "text/plain": [
       "array([[2487,  366],\n",
       "       [ 399, 2376]])"
      ]
     },
     "execution_count": 51,
     "metadata": {},
     "output_type": "execute_result"
    }
   ],
   "source": [
    "confusion_matrix(y_test,y_pre)"
   ]
  },
  {
   "cell_type": "markdown",
   "id": "acb2cbdb",
   "metadata": {},
   "source": [
    "### classification report"
   ]
  },
  {
   "cell_type": "code",
   "execution_count": 52,
   "id": "ujcEYDe8L5pa",
   "metadata": {
    "colab": {
     "base_uri": "https://localhost:8080/"
    },
    "executionInfo": {
     "elapsed": 553,
     "status": "ok",
     "timestamp": 1677238183107,
     "user": {
      "displayName": "Ranjit Singh",
      "userId": "11702740849844909823"
     },
     "user_tz": -330
    },
    "id": "ujcEYDe8L5pa",
    "outputId": "c0d17e0c-7383-496d-fded-42d2cbd26bda"
   },
   "outputs": [
    {
     "name": "stdout",
     "output_type": "stream",
     "text": [
      "              precision    recall  f1-score   support\n",
      "\n",
      "           0       0.86      0.87      0.87      2853\n",
      "           1       0.87      0.86      0.86      2775\n",
      "\n",
      "    accuracy                           0.86      5628\n",
      "   macro avg       0.86      0.86      0.86      5628\n",
      "weighted avg       0.86      0.86      0.86      5628\n",
      "\n"
     ]
    }
   ],
   "source": [
    "print(classification_report(y_test,y_pre))\n"
   ]
  },
  {
   "cell_type": "code",
   "execution_count": 59,
   "id": "-QUBF64NMxo2",
   "metadata": {
    "colab": {
     "base_uri": "https://localhost:8080/"
    },
    "executionInfo": {
     "elapsed": 796,
     "status": "ok",
     "timestamp": 1677238425023,
     "user": {
      "displayName": "Ranjit Singh",
      "userId": "11702740849844909823"
     },
     "user_tz": -330
    },
    "id": "-QUBF64NMxo2",
    "outputId": "3c994201-d7e9-4992-d6af-6840adeebc67"
   },
   "outputs": [
    {
     "data": {
      "text/plain": [
       "array([0, 0, 1, ..., 1, 0, 1])"
      ]
     },
     "execution_count": 59,
     "metadata": {},
     "output_type": "execute_result"
    }
   ],
   "source": [
    "y_test.values"
   ]
  },
  {
   "cell_type": "markdown",
   "id": "f786fa31",
   "metadata": {},
   "source": [
    "### prepare a dataset with prediction"
   ]
  },
  {
   "cell_type": "code",
   "execution_count": 60,
   "id": "tuhpmK6tMKaU",
   "metadata": {
    "executionInfo": {
     "elapsed": 579,
     "status": "ok",
     "timestamp": 1677238435554,
     "user": {
      "displayName": "Ranjit Singh",
      "userId": "11702740849844909823"
     },
     "user_tz": -330
    },
    "id": "tuhpmK6tMKaU"
   },
   "outputs": [],
   "source": [
    "pred = pd.DataFrame(x_test)\n",
    "pred['actual']=y_test.values\n",
    "pred['predicted'] = y_pre"
   ]
  },
  {
   "cell_type": "code",
   "execution_count": 61,
   "id": "qVpx2NtKMKWb",
   "metadata": {
    "colab": {
     "base_uri": "https://localhost:8080/",
     "height": 1000
    },
    "executionInfo": {
     "elapsed": 825,
     "status": "ok",
     "timestamp": 1677238441995,
     "user": {
      "displayName": "Ranjit Singh",
      "userId": "11702740849844909823"
     },
     "user_tz": -330
    },
    "id": "qVpx2NtKMKWb",
    "outputId": "868c1103-09ad-43c8-efc3-dbd514d09985"
   },
   "outputs": [
    {
     "data": {
      "text/html": [
       "\n",
       "  <div id=\"df-673c3dc1-8992-441d-9d99-060c68ce6a9f\">\n",
       "    <div class=\"colab-df-container\">\n",
       "      <div>\n",
       "<style scoped>\n",
       "    .dataframe tbody tr th:only-of-type {\n",
       "        vertical-align: middle;\n",
       "    }\n",
       "\n",
       "    .dataframe tbody tr th {\n",
       "        vertical-align: top;\n",
       "    }\n",
       "\n",
       "    .dataframe thead th {\n",
       "        text-align: right;\n",
       "    }\n",
       "</style>\n",
       "<table border=\"1\" class=\"dataframe\">\n",
       "  <thead>\n",
       "    <tr style=\"text-align: right;\">\n",
       "      <th></th>\n",
       "      <th>0</th>\n",
       "      <th>1</th>\n",
       "      <th>2</th>\n",
       "      <th>3</th>\n",
       "      <th>4</th>\n",
       "      <th>5</th>\n",
       "      <th>6</th>\n",
       "      <th>7</th>\n",
       "      <th>8</th>\n",
       "      <th>9</th>\n",
       "      <th>...</th>\n",
       "      <th>102</th>\n",
       "      <th>103</th>\n",
       "      <th>104</th>\n",
       "      <th>105</th>\n",
       "      <th>106</th>\n",
       "      <th>107</th>\n",
       "      <th>108</th>\n",
       "      <th>109</th>\n",
       "      <th>actual</th>\n",
       "      <th>predicted</th>\n",
       "    </tr>\n",
       "  </thead>\n",
       "  <tbody>\n",
       "    <tr>\n",
       "      <th>0</th>\n",
       "      <td>0</td>\n",
       "      <td>0</td>\n",
       "      <td>0</td>\n",
       "      <td>0</td>\n",
       "      <td>0</td>\n",
       "      <td>0</td>\n",
       "      <td>0</td>\n",
       "      <td>0</td>\n",
       "      <td>0</td>\n",
       "      <td>0</td>\n",
       "      <td>...</td>\n",
       "      <td>414</td>\n",
       "      <td>6939</td>\n",
       "      <td>15934</td>\n",
       "      <td>8256</td>\n",
       "      <td>1527</td>\n",
       "      <td>6990</td>\n",
       "      <td>7654</td>\n",
       "      <td>2896</td>\n",
       "      <td>0</td>\n",
       "      <td>False</td>\n",
       "    </tr>\n",
       "    <tr>\n",
       "      <th>1</th>\n",
       "      <td>0</td>\n",
       "      <td>0</td>\n",
       "      <td>0</td>\n",
       "      <td>0</td>\n",
       "      <td>0</td>\n",
       "      <td>0</td>\n",
       "      <td>0</td>\n",
       "      <td>0</td>\n",
       "      <td>0</td>\n",
       "      <td>0</td>\n",
       "      <td>...</td>\n",
       "      <td>17903</td>\n",
       "      <td>16844</td>\n",
       "      <td>7108</td>\n",
       "      <td>14798</td>\n",
       "      <td>11457</td>\n",
       "      <td>3389</td>\n",
       "      <td>19121</td>\n",
       "      <td>9093</td>\n",
       "      <td>0</td>\n",
       "      <td>False</td>\n",
       "    </tr>\n",
       "    <tr>\n",
       "      <th>2</th>\n",
       "      <td>0</td>\n",
       "      <td>0</td>\n",
       "      <td>0</td>\n",
       "      <td>0</td>\n",
       "      <td>0</td>\n",
       "      <td>0</td>\n",
       "      <td>0</td>\n",
       "      <td>0</td>\n",
       "      <td>0</td>\n",
       "      <td>0</td>\n",
       "      <td>...</td>\n",
       "      <td>2057</td>\n",
       "      <td>11047</td>\n",
       "      <td>18509</td>\n",
       "      <td>16166</td>\n",
       "      <td>18831</td>\n",
       "      <td>7883</td>\n",
       "      <td>2803</td>\n",
       "      <td>4196</td>\n",
       "      <td>1</td>\n",
       "      <td>True</td>\n",
       "    </tr>\n",
       "    <tr>\n",
       "      <th>3</th>\n",
       "      <td>0</td>\n",
       "      <td>0</td>\n",
       "      <td>0</td>\n",
       "      <td>0</td>\n",
       "      <td>0</td>\n",
       "      <td>0</td>\n",
       "      <td>0</td>\n",
       "      <td>0</td>\n",
       "      <td>0</td>\n",
       "      <td>0</td>\n",
       "      <td>...</td>\n",
       "      <td>9433</td>\n",
       "      <td>8174</td>\n",
       "      <td>7581</td>\n",
       "      <td>2085</td>\n",
       "      <td>10890</td>\n",
       "      <td>16798</td>\n",
       "      <td>10064</td>\n",
       "      <td>18554</td>\n",
       "      <td>0</td>\n",
       "      <td>False</td>\n",
       "    </tr>\n",
       "    <tr>\n",
       "      <th>4</th>\n",
       "      <td>0</td>\n",
       "      <td>0</td>\n",
       "      <td>0</td>\n",
       "      <td>0</td>\n",
       "      <td>0</td>\n",
       "      <td>0</td>\n",
       "      <td>0</td>\n",
       "      <td>0</td>\n",
       "      <td>0</td>\n",
       "      <td>0</td>\n",
       "      <td>...</td>\n",
       "      <td>17169</td>\n",
       "      <td>15376</td>\n",
       "      <td>9956</td>\n",
       "      <td>15347</td>\n",
       "      <td>16504</td>\n",
       "      <td>8088</td>\n",
       "      <td>13563</td>\n",
       "      <td>13191</td>\n",
       "      <td>0</td>\n",
       "      <td>False</td>\n",
       "    </tr>\n",
       "    <tr>\n",
       "      <th>5</th>\n",
       "      <td>0</td>\n",
       "      <td>0</td>\n",
       "      <td>0</td>\n",
       "      <td>0</td>\n",
       "      <td>0</td>\n",
       "      <td>0</td>\n",
       "      <td>0</td>\n",
       "      <td>0</td>\n",
       "      <td>0</td>\n",
       "      <td>0</td>\n",
       "      <td>...</td>\n",
       "      <td>7753</td>\n",
       "      <td>13368</td>\n",
       "      <td>19736</td>\n",
       "      <td>15107</td>\n",
       "      <td>4747</td>\n",
       "      <td>13916</td>\n",
       "      <td>7224</td>\n",
       "      <td>10864</td>\n",
       "      <td>0</td>\n",
       "      <td>False</td>\n",
       "    </tr>\n",
       "    <tr>\n",
       "      <th>6</th>\n",
       "      <td>0</td>\n",
       "      <td>0</td>\n",
       "      <td>0</td>\n",
       "      <td>0</td>\n",
       "      <td>0</td>\n",
       "      <td>0</td>\n",
       "      <td>0</td>\n",
       "      <td>0</td>\n",
       "      <td>0</td>\n",
       "      <td>0</td>\n",
       "      <td>...</td>\n",
       "      <td>9304</td>\n",
       "      <td>733</td>\n",
       "      <td>17257</td>\n",
       "      <td>19487</td>\n",
       "      <td>7814</td>\n",
       "      <td>17189</td>\n",
       "      <td>18887</td>\n",
       "      <td>13271</td>\n",
       "      <td>1</td>\n",
       "      <td>True</td>\n",
       "    </tr>\n",
       "    <tr>\n",
       "      <th>7</th>\n",
       "      <td>0</td>\n",
       "      <td>0</td>\n",
       "      <td>0</td>\n",
       "      <td>0</td>\n",
       "      <td>0</td>\n",
       "      <td>0</td>\n",
       "      <td>0</td>\n",
       "      <td>0</td>\n",
       "      <td>0</td>\n",
       "      <td>0</td>\n",
       "      <td>...</td>\n",
       "      <td>9156</td>\n",
       "      <td>10890</td>\n",
       "      <td>8988</td>\n",
       "      <td>3389</td>\n",
       "      <td>10433</td>\n",
       "      <td>2006</td>\n",
       "      <td>15060</td>\n",
       "      <td>8217</td>\n",
       "      <td>1</td>\n",
       "      <td>True</td>\n",
       "    </tr>\n",
       "    <tr>\n",
       "      <th>8</th>\n",
       "      <td>0</td>\n",
       "      <td>0</td>\n",
       "      <td>0</td>\n",
       "      <td>0</td>\n",
       "      <td>0</td>\n",
       "      <td>0</td>\n",
       "      <td>0</td>\n",
       "      <td>0</td>\n",
       "      <td>0</td>\n",
       "      <td>0</td>\n",
       "      <td>...</td>\n",
       "      <td>18860</td>\n",
       "      <td>4559</td>\n",
       "      <td>2774</td>\n",
       "      <td>13627</td>\n",
       "      <td>15007</td>\n",
       "      <td>2912</td>\n",
       "      <td>3403</td>\n",
       "      <td>19669</td>\n",
       "      <td>0</td>\n",
       "      <td>False</td>\n",
       "    </tr>\n",
       "    <tr>\n",
       "      <th>9</th>\n",
       "      <td>0</td>\n",
       "      <td>0</td>\n",
       "      <td>0</td>\n",
       "      <td>0</td>\n",
       "      <td>0</td>\n",
       "      <td>0</td>\n",
       "      <td>0</td>\n",
       "      <td>0</td>\n",
       "      <td>0</td>\n",
       "      <td>0</td>\n",
       "      <td>...</td>\n",
       "      <td>7352</td>\n",
       "      <td>12178</td>\n",
       "      <td>4301</td>\n",
       "      <td>2895</td>\n",
       "      <td>11392</td>\n",
       "      <td>8132</td>\n",
       "      <td>9156</td>\n",
       "      <td>9156</td>\n",
       "      <td>0</td>\n",
       "      <td>False</td>\n",
       "    </tr>\n",
       "    <tr>\n",
       "      <th>10</th>\n",
       "      <td>0</td>\n",
       "      <td>0</td>\n",
       "      <td>0</td>\n",
       "      <td>0</td>\n",
       "      <td>0</td>\n",
       "      <td>0</td>\n",
       "      <td>0</td>\n",
       "      <td>0</td>\n",
       "      <td>0</td>\n",
       "      <td>0</td>\n",
       "      <td>...</td>\n",
       "      <td>2198</td>\n",
       "      <td>2971</td>\n",
       "      <td>17665</td>\n",
       "      <td>172</td>\n",
       "      <td>2971</td>\n",
       "      <td>11387</td>\n",
       "      <td>15418</td>\n",
       "      <td>673</td>\n",
       "      <td>1</td>\n",
       "      <td>True</td>\n",
       "    </tr>\n",
       "    <tr>\n",
       "      <th>11</th>\n",
       "      <td>0</td>\n",
       "      <td>0</td>\n",
       "      <td>0</td>\n",
       "      <td>0</td>\n",
       "      <td>0</td>\n",
       "      <td>0</td>\n",
       "      <td>0</td>\n",
       "      <td>0</td>\n",
       "      <td>0</td>\n",
       "      <td>0</td>\n",
       "      <td>...</td>\n",
       "      <td>5843</td>\n",
       "      <td>15357</td>\n",
       "      <td>2409</td>\n",
       "      <td>14600</td>\n",
       "      <td>5595</td>\n",
       "      <td>13627</td>\n",
       "      <td>7317</td>\n",
       "      <td>9283</td>\n",
       "      <td>0</td>\n",
       "      <td>False</td>\n",
       "    </tr>\n",
       "    <tr>\n",
       "      <th>12</th>\n",
       "      <td>0</td>\n",
       "      <td>0</td>\n",
       "      <td>0</td>\n",
       "      <td>0</td>\n",
       "      <td>0</td>\n",
       "      <td>0</td>\n",
       "      <td>0</td>\n",
       "      <td>0</td>\n",
       "      <td>0</td>\n",
       "      <td>0</td>\n",
       "      <td>...</td>\n",
       "      <td>5455</td>\n",
       "      <td>811</td>\n",
       "      <td>15599</td>\n",
       "      <td>15599</td>\n",
       "      <td>18920</td>\n",
       "      <td>18920</td>\n",
       "      <td>18920</td>\n",
       "      <td>2724</td>\n",
       "      <td>0</td>\n",
       "      <td>False</td>\n",
       "    </tr>\n",
       "    <tr>\n",
       "      <th>13</th>\n",
       "      <td>0</td>\n",
       "      <td>0</td>\n",
       "      <td>0</td>\n",
       "      <td>0</td>\n",
       "      <td>0</td>\n",
       "      <td>0</td>\n",
       "      <td>0</td>\n",
       "      <td>0</td>\n",
       "      <td>0</td>\n",
       "      <td>0</td>\n",
       "      <td>...</td>\n",
       "      <td>6272</td>\n",
       "      <td>5714</td>\n",
       "      <td>19416</td>\n",
       "      <td>4301</td>\n",
       "      <td>15361</td>\n",
       "      <td>16506</td>\n",
       "      <td>13099</td>\n",
       "      <td>11620</td>\n",
       "      <td>1</td>\n",
       "      <td>True</td>\n",
       "    </tr>\n",
       "    <tr>\n",
       "      <th>14</th>\n",
       "      <td>0</td>\n",
       "      <td>0</td>\n",
       "      <td>0</td>\n",
       "      <td>0</td>\n",
       "      <td>0</td>\n",
       "      <td>0</td>\n",
       "      <td>0</td>\n",
       "      <td>0</td>\n",
       "      <td>0</td>\n",
       "      <td>0</td>\n",
       "      <td>...</td>\n",
       "      <td>15478</td>\n",
       "      <td>161</td>\n",
       "      <td>12961</td>\n",
       "      <td>3267</td>\n",
       "      <td>9156</td>\n",
       "      <td>9156</td>\n",
       "      <td>5046</td>\n",
       "      <td>9327</td>\n",
       "      <td>0</td>\n",
       "      <td>False</td>\n",
       "    </tr>\n",
       "    <tr>\n",
       "      <th>15</th>\n",
       "      <td>0</td>\n",
       "      <td>0</td>\n",
       "      <td>0</td>\n",
       "      <td>0</td>\n",
       "      <td>0</td>\n",
       "      <td>0</td>\n",
       "      <td>0</td>\n",
       "      <td>0</td>\n",
       "      <td>0</td>\n",
       "      <td>0</td>\n",
       "      <td>...</td>\n",
       "      <td>10228</td>\n",
       "      <td>7450</td>\n",
       "      <td>13091</td>\n",
       "      <td>7883</td>\n",
       "      <td>15599</td>\n",
       "      <td>10255</td>\n",
       "      <td>811</td>\n",
       "      <td>10283</td>\n",
       "      <td>1</td>\n",
       "      <td>True</td>\n",
       "    </tr>\n",
       "    <tr>\n",
       "      <th>16</th>\n",
       "      <td>0</td>\n",
       "      <td>0</td>\n",
       "      <td>0</td>\n",
       "      <td>0</td>\n",
       "      <td>0</td>\n",
       "      <td>0</td>\n",
       "      <td>0</td>\n",
       "      <td>0</td>\n",
       "      <td>0</td>\n",
       "      <td>0</td>\n",
       "      <td>...</td>\n",
       "      <td>17431</td>\n",
       "      <td>9156</td>\n",
       "      <td>9156</td>\n",
       "      <td>8926</td>\n",
       "      <td>2051</td>\n",
       "      <td>9156</td>\n",
       "      <td>9156</td>\n",
       "      <td>4555</td>\n",
       "      <td>0</td>\n",
       "      <td>False</td>\n",
       "    </tr>\n",
       "    <tr>\n",
       "      <th>17</th>\n",
       "      <td>0</td>\n",
       "      <td>0</td>\n",
       "      <td>0</td>\n",
       "      <td>0</td>\n",
       "      <td>0</td>\n",
       "      <td>0</td>\n",
       "      <td>0</td>\n",
       "      <td>0</td>\n",
       "      <td>0</td>\n",
       "      <td>0</td>\n",
       "      <td>...</td>\n",
       "      <td>18637</td>\n",
       "      <td>5646</td>\n",
       "      <td>15702</td>\n",
       "      <td>19612</td>\n",
       "      <td>4395</td>\n",
       "      <td>3819</td>\n",
       "      <td>6385</td>\n",
       "      <td>4588</td>\n",
       "      <td>1</td>\n",
       "      <td>True</td>\n",
       "    </tr>\n",
       "    <tr>\n",
       "      <th>18</th>\n",
       "      <td>0</td>\n",
       "      <td>0</td>\n",
       "      <td>0</td>\n",
       "      <td>0</td>\n",
       "      <td>0</td>\n",
       "      <td>0</td>\n",
       "      <td>0</td>\n",
       "      <td>0</td>\n",
       "      <td>0</td>\n",
       "      <td>0</td>\n",
       "      <td>...</td>\n",
       "      <td>647</td>\n",
       "      <td>14040</td>\n",
       "      <td>17043</td>\n",
       "      <td>18434</td>\n",
       "      <td>18492</td>\n",
       "      <td>5659</td>\n",
       "      <td>12854</td>\n",
       "      <td>18492</td>\n",
       "      <td>0</td>\n",
       "      <td>False</td>\n",
       "    </tr>\n",
       "    <tr>\n",
       "      <th>19</th>\n",
       "      <td>0</td>\n",
       "      <td>0</td>\n",
       "      <td>0</td>\n",
       "      <td>0</td>\n",
       "      <td>0</td>\n",
       "      <td>0</td>\n",
       "      <td>0</td>\n",
       "      <td>0</td>\n",
       "      <td>0</td>\n",
       "      <td>0</td>\n",
       "      <td>...</td>\n",
       "      <td>3734</td>\n",
       "      <td>7124</td>\n",
       "      <td>6292</td>\n",
       "      <td>1020</td>\n",
       "      <td>11460</td>\n",
       "      <td>5659</td>\n",
       "      <td>19359</td>\n",
       "      <td>4516</td>\n",
       "      <td>0</td>\n",
       "      <td>False</td>\n",
       "    </tr>\n",
       "    <tr>\n",
       "      <th>20</th>\n",
       "      <td>0</td>\n",
       "      <td>0</td>\n",
       "      <td>0</td>\n",
       "      <td>0</td>\n",
       "      <td>0</td>\n",
       "      <td>0</td>\n",
       "      <td>0</td>\n",
       "      <td>0</td>\n",
       "      <td>0</td>\n",
       "      <td>0</td>\n",
       "      <td>...</td>\n",
       "      <td>19951</td>\n",
       "      <td>16311</td>\n",
       "      <td>13353</td>\n",
       "      <td>7859</td>\n",
       "      <td>10451</td>\n",
       "      <td>18831</td>\n",
       "      <td>15362</td>\n",
       "      <td>13942</td>\n",
       "      <td>1</td>\n",
       "      <td>True</td>\n",
       "    </tr>\n",
       "    <tr>\n",
       "      <th>21</th>\n",
       "      <td>0</td>\n",
       "      <td>0</td>\n",
       "      <td>0</td>\n",
       "      <td>0</td>\n",
       "      <td>0</td>\n",
       "      <td>0</td>\n",
       "      <td>0</td>\n",
       "      <td>0</td>\n",
       "      <td>0</td>\n",
       "      <td>0</td>\n",
       "      <td>...</td>\n",
       "      <td>13916</td>\n",
       "      <td>19913</td>\n",
       "      <td>2895</td>\n",
       "      <td>2125</td>\n",
       "      <td>17442</td>\n",
       "      <td>7146</td>\n",
       "      <td>13191</td>\n",
       "      <td>16178</td>\n",
       "      <td>0</td>\n",
       "      <td>False</td>\n",
       "    </tr>\n",
       "    <tr>\n",
       "      <th>22</th>\n",
       "      <td>0</td>\n",
       "      <td>0</td>\n",
       "      <td>0</td>\n",
       "      <td>0</td>\n",
       "      <td>0</td>\n",
       "      <td>0</td>\n",
       "      <td>0</td>\n",
       "      <td>0</td>\n",
       "      <td>0</td>\n",
       "      <td>0</td>\n",
       "      <td>...</td>\n",
       "      <td>4196</td>\n",
       "      <td>9890</td>\n",
       "      <td>2355</td>\n",
       "      <td>4926</td>\n",
       "      <td>8609</td>\n",
       "      <td>4506</td>\n",
       "      <td>14511</td>\n",
       "      <td>4196</td>\n",
       "      <td>1</td>\n",
       "      <td>True</td>\n",
       "    </tr>\n",
       "    <tr>\n",
       "      <th>23</th>\n",
       "      <td>0</td>\n",
       "      <td>0</td>\n",
       "      <td>0</td>\n",
       "      <td>0</td>\n",
       "      <td>0</td>\n",
       "      <td>0</td>\n",
       "      <td>0</td>\n",
       "      <td>0</td>\n",
       "      <td>0</td>\n",
       "      <td>0</td>\n",
       "      <td>...</td>\n",
       "      <td>1805</td>\n",
       "      <td>9156</td>\n",
       "      <td>9156</td>\n",
       "      <td>6133</td>\n",
       "      <td>15068</td>\n",
       "      <td>5659</td>\n",
       "      <td>18637</td>\n",
       "      <td>144</td>\n",
       "      <td>1</td>\n",
       "      <td>True</td>\n",
       "    </tr>\n",
       "    <tr>\n",
       "      <th>24</th>\n",
       "      <td>0</td>\n",
       "      <td>0</td>\n",
       "      <td>0</td>\n",
       "      <td>0</td>\n",
       "      <td>0</td>\n",
       "      <td>0</td>\n",
       "      <td>0</td>\n",
       "      <td>0</td>\n",
       "      <td>0</td>\n",
       "      <td>0</td>\n",
       "      <td>...</td>\n",
       "      <td>15302</td>\n",
       "      <td>10303</td>\n",
       "      <td>9156</td>\n",
       "      <td>9156</td>\n",
       "      <td>16738</td>\n",
       "      <td>9156</td>\n",
       "      <td>9156</td>\n",
       "      <td>8559</td>\n",
       "      <td>1</td>\n",
       "      <td>True</td>\n",
       "    </tr>\n",
       "    <tr>\n",
       "      <th>25</th>\n",
       "      <td>0</td>\n",
       "      <td>0</td>\n",
       "      <td>0</td>\n",
       "      <td>0</td>\n",
       "      <td>0</td>\n",
       "      <td>0</td>\n",
       "      <td>0</td>\n",
       "      <td>0</td>\n",
       "      <td>0</td>\n",
       "      <td>0</td>\n",
       "      <td>...</td>\n",
       "      <td>10444</td>\n",
       "      <td>13563</td>\n",
       "      <td>5659</td>\n",
       "      <td>16326</td>\n",
       "      <td>9321</td>\n",
       "      <td>1118</td>\n",
       "      <td>9677</td>\n",
       "      <td>7389</td>\n",
       "      <td>0</td>\n",
       "      <td>False</td>\n",
       "    </tr>\n",
       "    <tr>\n",
       "      <th>26</th>\n",
       "      <td>0</td>\n",
       "      <td>0</td>\n",
       "      <td>0</td>\n",
       "      <td>0</td>\n",
       "      <td>0</td>\n",
       "      <td>0</td>\n",
       "      <td>0</td>\n",
       "      <td>0</td>\n",
       "      <td>0</td>\n",
       "      <td>0</td>\n",
       "      <td>...</td>\n",
       "      <td>1118</td>\n",
       "      <td>8180</td>\n",
       "      <td>3321</td>\n",
       "      <td>11734</td>\n",
       "      <td>13405</td>\n",
       "      <td>3953</td>\n",
       "      <td>18554</td>\n",
       "      <td>18761</td>\n",
       "      <td>0</td>\n",
       "      <td>False</td>\n",
       "    </tr>\n",
       "    <tr>\n",
       "      <th>27</th>\n",
       "      <td>0</td>\n",
       "      <td>0</td>\n",
       "      <td>0</td>\n",
       "      <td>0</td>\n",
       "      <td>0</td>\n",
       "      <td>0</td>\n",
       "      <td>0</td>\n",
       "      <td>0</td>\n",
       "      <td>0</td>\n",
       "      <td>0</td>\n",
       "      <td>...</td>\n",
       "      <td>12909</td>\n",
       "      <td>1777</td>\n",
       "      <td>4768</td>\n",
       "      <td>18176</td>\n",
       "      <td>10136</td>\n",
       "      <td>9220</td>\n",
       "      <td>1155</td>\n",
       "      <td>9139</td>\n",
       "      <td>0</td>\n",
       "      <td>False</td>\n",
       "    </tr>\n",
       "    <tr>\n",
       "      <th>28</th>\n",
       "      <td>0</td>\n",
       "      <td>0</td>\n",
       "      <td>0</td>\n",
       "      <td>0</td>\n",
       "      <td>0</td>\n",
       "      <td>0</td>\n",
       "      <td>0</td>\n",
       "      <td>0</td>\n",
       "      <td>0</td>\n",
       "      <td>0</td>\n",
       "      <td>...</td>\n",
       "      <td>17195</td>\n",
       "      <td>1118</td>\n",
       "      <td>6298</td>\n",
       "      <td>9156</td>\n",
       "      <td>9156</td>\n",
       "      <td>5811</td>\n",
       "      <td>11492</td>\n",
       "      <td>17169</td>\n",
       "      <td>1</td>\n",
       "      <td>True</td>\n",
       "    </tr>\n",
       "    <tr>\n",
       "      <th>29</th>\n",
       "      <td>0</td>\n",
       "      <td>0</td>\n",
       "      <td>0</td>\n",
       "      <td>0</td>\n",
       "      <td>0</td>\n",
       "      <td>0</td>\n",
       "      <td>0</td>\n",
       "      <td>0</td>\n",
       "      <td>0</td>\n",
       "      <td>0</td>\n",
       "      <td>...</td>\n",
       "      <td>8315</td>\n",
       "      <td>16450</td>\n",
       "      <td>10228</td>\n",
       "      <td>4196</td>\n",
       "      <td>1969</td>\n",
       "      <td>13916</td>\n",
       "      <td>15830</td>\n",
       "      <td>11216</td>\n",
       "      <td>0</td>\n",
       "      <td>False</td>\n",
       "    </tr>\n",
       "    <tr>\n",
       "      <th>30</th>\n",
       "      <td>0</td>\n",
       "      <td>0</td>\n",
       "      <td>0</td>\n",
       "      <td>0</td>\n",
       "      <td>0</td>\n",
       "      <td>0</td>\n",
       "      <td>0</td>\n",
       "      <td>0</td>\n",
       "      <td>0</td>\n",
       "      <td>0</td>\n",
       "      <td>...</td>\n",
       "      <td>12764</td>\n",
       "      <td>7224</td>\n",
       "      <td>16891</td>\n",
       "      <td>13328</td>\n",
       "      <td>2781</td>\n",
       "      <td>18492</td>\n",
       "      <td>8638</td>\n",
       "      <td>17169</td>\n",
       "      <td>1</td>\n",
       "      <td>True</td>\n",
       "    </tr>\n",
       "    <tr>\n",
       "      <th>31</th>\n",
       "      <td>0</td>\n",
       "      <td>0</td>\n",
       "      <td>0</td>\n",
       "      <td>0</td>\n",
       "      <td>0</td>\n",
       "      <td>0</td>\n",
       "      <td>0</td>\n",
       "      <td>0</td>\n",
       "      <td>0</td>\n",
       "      <td>0</td>\n",
       "      <td>...</td>\n",
       "      <td>16188</td>\n",
       "      <td>5646</td>\n",
       "      <td>18831</td>\n",
       "      <td>3612</td>\n",
       "      <td>7224</td>\n",
       "      <td>13895</td>\n",
       "      <td>13100</td>\n",
       "      <td>17548</td>\n",
       "      <td>1</td>\n",
       "      <td>True</td>\n",
       "    </tr>\n",
       "    <tr>\n",
       "      <th>32</th>\n",
       "      <td>0</td>\n",
       "      <td>0</td>\n",
       "      <td>0</td>\n",
       "      <td>0</td>\n",
       "      <td>0</td>\n",
       "      <td>0</td>\n",
       "      <td>0</td>\n",
       "      <td>0</td>\n",
       "      <td>0</td>\n",
       "      <td>0</td>\n",
       "      <td>...</td>\n",
       "      <td>1118</td>\n",
       "      <td>11424</td>\n",
       "      <td>15068</td>\n",
       "      <td>4588</td>\n",
       "      <td>6308</td>\n",
       "      <td>19553</td>\n",
       "      <td>18920</td>\n",
       "      <td>14648</td>\n",
       "      <td>1</td>\n",
       "      <td>True</td>\n",
       "    </tr>\n",
       "    <tr>\n",
       "      <th>33</th>\n",
       "      <td>0</td>\n",
       "      <td>0</td>\n",
       "      <td>0</td>\n",
       "      <td>0</td>\n",
       "      <td>0</td>\n",
       "      <td>0</td>\n",
       "      <td>0</td>\n",
       "      <td>0</td>\n",
       "      <td>0</td>\n",
       "      <td>0</td>\n",
       "      <td>...</td>\n",
       "      <td>17149</td>\n",
       "      <td>15702</td>\n",
       "      <td>4196</td>\n",
       "      <td>10228</td>\n",
       "      <td>3612</td>\n",
       "      <td>17254</td>\n",
       "      <td>5547</td>\n",
       "      <td>14635</td>\n",
       "      <td>1</td>\n",
       "      <td>True</td>\n",
       "    </tr>\n",
       "    <tr>\n",
       "      <th>34</th>\n",
       "      <td>0</td>\n",
       "      <td>0</td>\n",
       "      <td>0</td>\n",
       "      <td>0</td>\n",
       "      <td>0</td>\n",
       "      <td>0</td>\n",
       "      <td>0</td>\n",
       "      <td>0</td>\n",
       "      <td>0</td>\n",
       "      <td>0</td>\n",
       "      <td>...</td>\n",
       "      <td>6298</td>\n",
       "      <td>14607</td>\n",
       "      <td>8743</td>\n",
       "      <td>13733</td>\n",
       "      <td>17433</td>\n",
       "      <td>13603</td>\n",
       "      <td>8163</td>\n",
       "      <td>19952</td>\n",
       "      <td>1</td>\n",
       "      <td>True</td>\n",
       "    </tr>\n",
       "    <tr>\n",
       "      <th>35</th>\n",
       "      <td>0</td>\n",
       "      <td>0</td>\n",
       "      <td>0</td>\n",
       "      <td>0</td>\n",
       "      <td>0</td>\n",
       "      <td>0</td>\n",
       "      <td>0</td>\n",
       "      <td>0</td>\n",
       "      <td>0</td>\n",
       "      <td>0</td>\n",
       "      <td>...</td>\n",
       "      <td>18467</td>\n",
       "      <td>1118</td>\n",
       "      <td>9327</td>\n",
       "      <td>8088</td>\n",
       "      <td>19128</td>\n",
       "      <td>13937</td>\n",
       "      <td>13191</td>\n",
       "      <td>1898</td>\n",
       "      <td>0</td>\n",
       "      <td>False</td>\n",
       "    </tr>\n",
       "    <tr>\n",
       "      <th>36</th>\n",
       "      <td>0</td>\n",
       "      <td>0</td>\n",
       "      <td>0</td>\n",
       "      <td>0</td>\n",
       "      <td>0</td>\n",
       "      <td>0</td>\n",
       "      <td>0</td>\n",
       "      <td>0</td>\n",
       "      <td>0</td>\n",
       "      <td>0</td>\n",
       "      <td>...</td>\n",
       "      <td>19646</td>\n",
       "      <td>19352</td>\n",
       "      <td>6677</td>\n",
       "      <td>17442</td>\n",
       "      <td>15830</td>\n",
       "      <td>9426</td>\n",
       "      <td>4196</td>\n",
       "      <td>13148</td>\n",
       "      <td>1</td>\n",
       "      <td>False</td>\n",
       "    </tr>\n",
       "    <tr>\n",
       "      <th>37</th>\n",
       "      <td>0</td>\n",
       "      <td>0</td>\n",
       "      <td>0</td>\n",
       "      <td>0</td>\n",
       "      <td>0</td>\n",
       "      <td>0</td>\n",
       "      <td>0</td>\n",
       "      <td>0</td>\n",
       "      <td>0</td>\n",
       "      <td>0</td>\n",
       "      <td>...</td>\n",
       "      <td>10698</td>\n",
       "      <td>11846</td>\n",
       "      <td>200</td>\n",
       "      <td>4347</td>\n",
       "      <td>9817</td>\n",
       "      <td>9283</td>\n",
       "      <td>18707</td>\n",
       "      <td>9884</td>\n",
       "      <td>0</td>\n",
       "      <td>False</td>\n",
       "    </tr>\n",
       "    <tr>\n",
       "      <th>38</th>\n",
       "      <td>0</td>\n",
       "      <td>0</td>\n",
       "      <td>0</td>\n",
       "      <td>0</td>\n",
       "      <td>0</td>\n",
       "      <td>0</td>\n",
       "      <td>0</td>\n",
       "      <td>0</td>\n",
       "      <td>0</td>\n",
       "      <td>0</td>\n",
       "      <td>...</td>\n",
       "      <td>1215</td>\n",
       "      <td>2803</td>\n",
       "      <td>19415</td>\n",
       "      <td>8293</td>\n",
       "      <td>14798</td>\n",
       "      <td>5121</td>\n",
       "      <td>734</td>\n",
       "      <td>17345</td>\n",
       "      <td>1</td>\n",
       "      <td>True</td>\n",
       "    </tr>\n",
       "    <tr>\n",
       "      <th>39</th>\n",
       "      <td>0</td>\n",
       "      <td>0</td>\n",
       "      <td>0</td>\n",
       "      <td>0</td>\n",
       "      <td>0</td>\n",
       "      <td>0</td>\n",
       "      <td>0</td>\n",
       "      <td>0</td>\n",
       "      <td>0</td>\n",
       "      <td>0</td>\n",
       "      <td>...</td>\n",
       "      <td>10456</td>\n",
       "      <td>7375</td>\n",
       "      <td>16807</td>\n",
       "      <td>4743</td>\n",
       "      <td>13639</td>\n",
       "      <td>13810</td>\n",
       "      <td>10444</td>\n",
       "      <td>5434</td>\n",
       "      <td>1</td>\n",
       "      <td>True</td>\n",
       "    </tr>\n",
       "    <tr>\n",
       "      <th>40</th>\n",
       "      <td>0</td>\n",
       "      <td>0</td>\n",
       "      <td>0</td>\n",
       "      <td>0</td>\n",
       "      <td>0</td>\n",
       "      <td>0</td>\n",
       "      <td>0</td>\n",
       "      <td>0</td>\n",
       "      <td>0</td>\n",
       "      <td>0</td>\n",
       "      <td>...</td>\n",
       "      <td>2912</td>\n",
       "      <td>15239</td>\n",
       "      <td>9704</td>\n",
       "      <td>5172</td>\n",
       "      <td>15599</td>\n",
       "      <td>8174</td>\n",
       "      <td>4347</td>\n",
       "      <td>647</td>\n",
       "      <td>1</td>\n",
       "      <td>True</td>\n",
       "    </tr>\n",
       "    <tr>\n",
       "      <th>41</th>\n",
       "      <td>0</td>\n",
       "      <td>0</td>\n",
       "      <td>0</td>\n",
       "      <td>0</td>\n",
       "      <td>0</td>\n",
       "      <td>0</td>\n",
       "      <td>0</td>\n",
       "      <td>0</td>\n",
       "      <td>0</td>\n",
       "      <td>0</td>\n",
       "      <td>...</td>\n",
       "      <td>2301</td>\n",
       "      <td>17745</td>\n",
       "      <td>7054</td>\n",
       "      <td>13899</td>\n",
       "      <td>1835</td>\n",
       "      <td>1118</td>\n",
       "      <td>18813</td>\n",
       "      <td>13497</td>\n",
       "      <td>0</td>\n",
       "      <td>False</td>\n",
       "    </tr>\n",
       "    <tr>\n",
       "      <th>42</th>\n",
       "      <td>0</td>\n",
       "      <td>0</td>\n",
       "      <td>0</td>\n",
       "      <td>0</td>\n",
       "      <td>0</td>\n",
       "      <td>0</td>\n",
       "      <td>0</td>\n",
       "      <td>0</td>\n",
       "      <td>0</td>\n",
       "      <td>0</td>\n",
       "      <td>...</td>\n",
       "      <td>1118</td>\n",
       "      <td>2803</td>\n",
       "      <td>11160</td>\n",
       "      <td>437</td>\n",
       "      <td>7591</td>\n",
       "      <td>9048</td>\n",
       "      <td>13916</td>\n",
       "      <td>15245</td>\n",
       "      <td>1</td>\n",
       "      <td>True</td>\n",
       "    </tr>\n",
       "    <tr>\n",
       "      <th>43</th>\n",
       "      <td>0</td>\n",
       "      <td>0</td>\n",
       "      <td>0</td>\n",
       "      <td>0</td>\n",
       "      <td>0</td>\n",
       "      <td>0</td>\n",
       "      <td>0</td>\n",
       "      <td>0</td>\n",
       "      <td>0</td>\n",
       "      <td>0</td>\n",
       "      <td>...</td>\n",
       "      <td>10255</td>\n",
       "      <td>16848</td>\n",
       "      <td>17254</td>\n",
       "      <td>15599</td>\n",
       "      <td>17254</td>\n",
       "      <td>1234</td>\n",
       "      <td>6116</td>\n",
       "      <td>4588</td>\n",
       "      <td>0</td>\n",
       "      <td>False</td>\n",
       "    </tr>\n",
       "    <tr>\n",
       "      <th>44</th>\n",
       "      <td>0</td>\n",
       "      <td>0</td>\n",
       "      <td>0</td>\n",
       "      <td>0</td>\n",
       "      <td>0</td>\n",
       "      <td>0</td>\n",
       "      <td>0</td>\n",
       "      <td>0</td>\n",
       "      <td>0</td>\n",
       "      <td>0</td>\n",
       "      <td>...</td>\n",
       "      <td>18286</td>\n",
       "      <td>12890</td>\n",
       "      <td>7677</td>\n",
       "      <td>16792</td>\n",
       "      <td>17897</td>\n",
       "      <td>13916</td>\n",
       "      <td>15599</td>\n",
       "      <td>4926</td>\n",
       "      <td>1</td>\n",
       "      <td>True</td>\n",
       "    </tr>\n",
       "    <tr>\n",
       "      <th>45</th>\n",
       "      <td>0</td>\n",
       "      <td>0</td>\n",
       "      <td>0</td>\n",
       "      <td>0</td>\n",
       "      <td>0</td>\n",
       "      <td>0</td>\n",
       "      <td>0</td>\n",
       "      <td>0</td>\n",
       "      <td>0</td>\n",
       "      <td>0</td>\n",
       "      <td>...</td>\n",
       "      <td>15702</td>\n",
       "      <td>4196</td>\n",
       "      <td>445</td>\n",
       "      <td>3629</td>\n",
       "      <td>18554</td>\n",
       "      <td>6017</td>\n",
       "      <td>17931</td>\n",
       "      <td>1118</td>\n",
       "      <td>1</td>\n",
       "      <td>True</td>\n",
       "    </tr>\n",
       "    <tr>\n",
       "      <th>46</th>\n",
       "      <td>0</td>\n",
       "      <td>0</td>\n",
       "      <td>0</td>\n",
       "      <td>0</td>\n",
       "      <td>0</td>\n",
       "      <td>0</td>\n",
       "      <td>0</td>\n",
       "      <td>0</td>\n",
       "      <td>0</td>\n",
       "      <td>0</td>\n",
       "      <td>...</td>\n",
       "      <td>13563</td>\n",
       "      <td>10307</td>\n",
       "      <td>1969</td>\n",
       "      <td>9156</td>\n",
       "      <td>9156</td>\n",
       "      <td>2417</td>\n",
       "      <td>6308</td>\n",
       "      <td>1234</td>\n",
       "      <td>0</td>\n",
       "      <td>False</td>\n",
       "    </tr>\n",
       "    <tr>\n",
       "      <th>47</th>\n",
       "      <td>0</td>\n",
       "      <td>0</td>\n",
       "      <td>0</td>\n",
       "      <td>0</td>\n",
       "      <td>0</td>\n",
       "      <td>0</td>\n",
       "      <td>0</td>\n",
       "      <td>0</td>\n",
       "      <td>0</td>\n",
       "      <td>0</td>\n",
       "      <td>...</td>\n",
       "      <td>9612</td>\n",
       "      <td>10632</td>\n",
       "      <td>9156</td>\n",
       "      <td>9156</td>\n",
       "      <td>13916</td>\n",
       "      <td>1231</td>\n",
       "      <td>16813</td>\n",
       "      <td>3612</td>\n",
       "      <td>0</td>\n",
       "      <td>False</td>\n",
       "    </tr>\n",
       "    <tr>\n",
       "      <th>48</th>\n",
       "      <td>0</td>\n",
       "      <td>0</td>\n",
       "      <td>0</td>\n",
       "      <td>0</td>\n",
       "      <td>0</td>\n",
       "      <td>0</td>\n",
       "      <td>0</td>\n",
       "      <td>0</td>\n",
       "      <td>0</td>\n",
       "      <td>0</td>\n",
       "      <td>...</td>\n",
       "      <td>17416</td>\n",
       "      <td>17572</td>\n",
       "      <td>5659</td>\n",
       "      <td>17536</td>\n",
       "      <td>345</td>\n",
       "      <td>15512</td>\n",
       "      <td>7558</td>\n",
       "      <td>10492</td>\n",
       "      <td>1</td>\n",
       "      <td>False</td>\n",
       "    </tr>\n",
       "    <tr>\n",
       "      <th>49</th>\n",
       "      <td>0</td>\n",
       "      <td>0</td>\n",
       "      <td>0</td>\n",
       "      <td>0</td>\n",
       "      <td>0</td>\n",
       "      <td>0</td>\n",
       "      <td>0</td>\n",
       "      <td>0</td>\n",
       "      <td>0</td>\n",
       "      <td>0</td>\n",
       "      <td>...</td>\n",
       "      <td>9318</td>\n",
       "      <td>18554</td>\n",
       "      <td>6292</td>\n",
       "      <td>9304</td>\n",
       "      <td>10210</td>\n",
       "      <td>11077</td>\n",
       "      <td>1118</td>\n",
       "      <td>5766</td>\n",
       "      <td>0</td>\n",
       "      <td>False</td>\n",
       "    </tr>\n",
       "  </tbody>\n",
       "</table>\n",
       "<p>50 rows × 112 columns</p>\n",
       "</div>\n",
       "      <button class=\"colab-df-convert\" onclick=\"convertToInteractive('df-673c3dc1-8992-441d-9d99-060c68ce6a9f')\"\n",
       "              title=\"Convert this dataframe to an interactive table.\"\n",
       "              style=\"display:none;\">\n",
       "        \n",
       "  <svg xmlns=\"http://www.w3.org/2000/svg\" height=\"24px\"viewBox=\"0 0 24 24\"\n",
       "       width=\"24px\">\n",
       "    <path d=\"M0 0h24v24H0V0z\" fill=\"none\"/>\n",
       "    <path d=\"M18.56 5.44l.94 2.06.94-2.06 2.06-.94-2.06-.94-.94-2.06-.94 2.06-2.06.94zm-11 1L8.5 8.5l.94-2.06 2.06-.94-2.06-.94L8.5 2.5l-.94 2.06-2.06.94zm10 10l.94 2.06.94-2.06 2.06-.94-2.06-.94-.94-2.06-.94 2.06-2.06.94z\"/><path d=\"M17.41 7.96l-1.37-1.37c-.4-.4-.92-.59-1.43-.59-.52 0-1.04.2-1.43.59L10.3 9.45l-7.72 7.72c-.78.78-.78 2.05 0 2.83L4 21.41c.39.39.9.59 1.41.59.51 0 1.02-.2 1.41-.59l7.78-7.78 2.81-2.81c.8-.78.8-2.07 0-2.86zM5.41 20L4 18.59l7.72-7.72 1.47 1.35L5.41 20z\"/>\n",
       "  </svg>\n",
       "      </button>\n",
       "      \n",
       "  <style>\n",
       "    .colab-df-container {\n",
       "      display:flex;\n",
       "      flex-wrap:wrap;\n",
       "      gap: 12px;\n",
       "    }\n",
       "\n",
       "    .colab-df-convert {\n",
       "      background-color: #E8F0FE;\n",
       "      border: none;\n",
       "      border-radius: 50%;\n",
       "      cursor: pointer;\n",
       "      display: none;\n",
       "      fill: #1967D2;\n",
       "      height: 32px;\n",
       "      padding: 0 0 0 0;\n",
       "      width: 32px;\n",
       "    }\n",
       "\n",
       "    .colab-df-convert:hover {\n",
       "      background-color: #E2EBFA;\n",
       "      box-shadow: 0px 1px 2px rgba(60, 64, 67, 0.3), 0px 1px 3px 1px rgba(60, 64, 67, 0.15);\n",
       "      fill: #174EA6;\n",
       "    }\n",
       "\n",
       "    [theme=dark] .colab-df-convert {\n",
       "      background-color: #3B4455;\n",
       "      fill: #D2E3FC;\n",
       "    }\n",
       "\n",
       "    [theme=dark] .colab-df-convert:hover {\n",
       "      background-color: #434B5C;\n",
       "      box-shadow: 0px 1px 3px 1px rgba(0, 0, 0, 0.15);\n",
       "      filter: drop-shadow(0px 1px 2px rgba(0, 0, 0, 0.3));\n",
       "      fill: #FFFFFF;\n",
       "    }\n",
       "  </style>\n",
       "\n",
       "      <script>\n",
       "        const buttonEl =\n",
       "          document.querySelector('#df-673c3dc1-8992-441d-9d99-060c68ce6a9f button.colab-df-convert');\n",
       "        buttonEl.style.display =\n",
       "          google.colab.kernel.accessAllowed ? 'block' : 'none';\n",
       "\n",
       "        async function convertToInteractive(key) {\n",
       "          const element = document.querySelector('#df-673c3dc1-8992-441d-9d99-060c68ce6a9f');\n",
       "          const dataTable =\n",
       "            await google.colab.kernel.invokeFunction('convertToInteractive',\n",
       "                                                     [key], {});\n",
       "          if (!dataTable) return;\n",
       "\n",
       "          const docLinkHtml = 'Like what you see? Visit the ' +\n",
       "            '<a target=\"_blank\" href=https://colab.research.google.com/notebooks/data_table.ipynb>data table notebook</a>'\n",
       "            + ' to learn more about interactive tables.';\n",
       "          element.innerHTML = '';\n",
       "          dataTable['output_type'] = 'display_data';\n",
       "          await google.colab.output.renderOutput(dataTable, element);\n",
       "          const docLink = document.createElement('div');\n",
       "          docLink.innerHTML = docLinkHtml;\n",
       "          element.appendChild(docLink);\n",
       "        }\n",
       "      </script>\n",
       "    </div>\n",
       "  </div>\n",
       "  "
      ],
      "text/plain": [
       "    0  1  2  3  4  5  6  7  8  9  ...    102    103    104    105    106  \\\n",
       "0   0  0  0  0  0  0  0  0  0  0  ...    414   6939  15934   8256   1527   \n",
       "1   0  0  0  0  0  0  0  0  0  0  ...  17903  16844   7108  14798  11457   \n",
       "2   0  0  0  0  0  0  0  0  0  0  ...   2057  11047  18509  16166  18831   \n",
       "3   0  0  0  0  0  0  0  0  0  0  ...   9433   8174   7581   2085  10890   \n",
       "4   0  0  0  0  0  0  0  0  0  0  ...  17169  15376   9956  15347  16504   \n",
       "5   0  0  0  0  0  0  0  0  0  0  ...   7753  13368  19736  15107   4747   \n",
       "6   0  0  0  0  0  0  0  0  0  0  ...   9304    733  17257  19487   7814   \n",
       "7   0  0  0  0  0  0  0  0  0  0  ...   9156  10890   8988   3389  10433   \n",
       "8   0  0  0  0  0  0  0  0  0  0  ...  18860   4559   2774  13627  15007   \n",
       "9   0  0  0  0  0  0  0  0  0  0  ...   7352  12178   4301   2895  11392   \n",
       "10  0  0  0  0  0  0  0  0  0  0  ...   2198   2971  17665    172   2971   \n",
       "11  0  0  0  0  0  0  0  0  0  0  ...   5843  15357   2409  14600   5595   \n",
       "12  0  0  0  0  0  0  0  0  0  0  ...   5455    811  15599  15599  18920   \n",
       "13  0  0  0  0  0  0  0  0  0  0  ...   6272   5714  19416   4301  15361   \n",
       "14  0  0  0  0  0  0  0  0  0  0  ...  15478    161  12961   3267   9156   \n",
       "15  0  0  0  0  0  0  0  0  0  0  ...  10228   7450  13091   7883  15599   \n",
       "16  0  0  0  0  0  0  0  0  0  0  ...  17431   9156   9156   8926   2051   \n",
       "17  0  0  0  0  0  0  0  0  0  0  ...  18637   5646  15702  19612   4395   \n",
       "18  0  0  0  0  0  0  0  0  0  0  ...    647  14040  17043  18434  18492   \n",
       "19  0  0  0  0  0  0  0  0  0  0  ...   3734   7124   6292   1020  11460   \n",
       "20  0  0  0  0  0  0  0  0  0  0  ...  19951  16311  13353   7859  10451   \n",
       "21  0  0  0  0  0  0  0  0  0  0  ...  13916  19913   2895   2125  17442   \n",
       "22  0  0  0  0  0  0  0  0  0  0  ...   4196   9890   2355   4926   8609   \n",
       "23  0  0  0  0  0  0  0  0  0  0  ...   1805   9156   9156   6133  15068   \n",
       "24  0  0  0  0  0  0  0  0  0  0  ...  15302  10303   9156   9156  16738   \n",
       "25  0  0  0  0  0  0  0  0  0  0  ...  10444  13563   5659  16326   9321   \n",
       "26  0  0  0  0  0  0  0  0  0  0  ...   1118   8180   3321  11734  13405   \n",
       "27  0  0  0  0  0  0  0  0  0  0  ...  12909   1777   4768  18176  10136   \n",
       "28  0  0  0  0  0  0  0  0  0  0  ...  17195   1118   6298   9156   9156   \n",
       "29  0  0  0  0  0  0  0  0  0  0  ...   8315  16450  10228   4196   1969   \n",
       "30  0  0  0  0  0  0  0  0  0  0  ...  12764   7224  16891  13328   2781   \n",
       "31  0  0  0  0  0  0  0  0  0  0  ...  16188   5646  18831   3612   7224   \n",
       "32  0  0  0  0  0  0  0  0  0  0  ...   1118  11424  15068   4588   6308   \n",
       "33  0  0  0  0  0  0  0  0  0  0  ...  17149  15702   4196  10228   3612   \n",
       "34  0  0  0  0  0  0  0  0  0  0  ...   6298  14607   8743  13733  17433   \n",
       "35  0  0  0  0  0  0  0  0  0  0  ...  18467   1118   9327   8088  19128   \n",
       "36  0  0  0  0  0  0  0  0  0  0  ...  19646  19352   6677  17442  15830   \n",
       "37  0  0  0  0  0  0  0  0  0  0  ...  10698  11846    200   4347   9817   \n",
       "38  0  0  0  0  0  0  0  0  0  0  ...   1215   2803  19415   8293  14798   \n",
       "39  0  0  0  0  0  0  0  0  0  0  ...  10456   7375  16807   4743  13639   \n",
       "40  0  0  0  0  0  0  0  0  0  0  ...   2912  15239   9704   5172  15599   \n",
       "41  0  0  0  0  0  0  0  0  0  0  ...   2301  17745   7054  13899   1835   \n",
       "42  0  0  0  0  0  0  0  0  0  0  ...   1118   2803  11160    437   7591   \n",
       "43  0  0  0  0  0  0  0  0  0  0  ...  10255  16848  17254  15599  17254   \n",
       "44  0  0  0  0  0  0  0  0  0  0  ...  18286  12890   7677  16792  17897   \n",
       "45  0  0  0  0  0  0  0  0  0  0  ...  15702   4196    445   3629  18554   \n",
       "46  0  0  0  0  0  0  0  0  0  0  ...  13563  10307   1969   9156   9156   \n",
       "47  0  0  0  0  0  0  0  0  0  0  ...   9612  10632   9156   9156  13916   \n",
       "48  0  0  0  0  0  0  0  0  0  0  ...  17416  17572   5659  17536    345   \n",
       "49  0  0  0  0  0  0  0  0  0  0  ...   9318  18554   6292   9304  10210   \n",
       "\n",
       "      107    108    109  actual  predicted  \n",
       "0    6990   7654   2896       0      False  \n",
       "1    3389  19121   9093       0      False  \n",
       "2    7883   2803   4196       1       True  \n",
       "3   16798  10064  18554       0      False  \n",
       "4    8088  13563  13191       0      False  \n",
       "5   13916   7224  10864       0      False  \n",
       "6   17189  18887  13271       1       True  \n",
       "7    2006  15060   8217       1       True  \n",
       "8    2912   3403  19669       0      False  \n",
       "9    8132   9156   9156       0      False  \n",
       "10  11387  15418    673       1       True  \n",
       "11  13627   7317   9283       0      False  \n",
       "12  18920  18920   2724       0      False  \n",
       "13  16506  13099  11620       1       True  \n",
       "14   9156   5046   9327       0      False  \n",
       "15  10255    811  10283       1       True  \n",
       "16   9156   9156   4555       0      False  \n",
       "17   3819   6385   4588       1       True  \n",
       "18   5659  12854  18492       0      False  \n",
       "19   5659  19359   4516       0      False  \n",
       "20  18831  15362  13942       1       True  \n",
       "21   7146  13191  16178       0      False  \n",
       "22   4506  14511   4196       1       True  \n",
       "23   5659  18637    144       1       True  \n",
       "24   9156   9156   8559       1       True  \n",
       "25   1118   9677   7389       0      False  \n",
       "26   3953  18554  18761       0      False  \n",
       "27   9220   1155   9139       0      False  \n",
       "28   5811  11492  17169       1       True  \n",
       "29  13916  15830  11216       0      False  \n",
       "30  18492   8638  17169       1       True  \n",
       "31  13895  13100  17548       1       True  \n",
       "32  19553  18920  14648       1       True  \n",
       "33  17254   5547  14635       1       True  \n",
       "34  13603   8163  19952       1       True  \n",
       "35  13937  13191   1898       0      False  \n",
       "36   9426   4196  13148       1      False  \n",
       "37   9283  18707   9884       0      False  \n",
       "38   5121    734  17345       1       True  \n",
       "39  13810  10444   5434       1       True  \n",
       "40   8174   4347    647       1       True  \n",
       "41   1118  18813  13497       0      False  \n",
       "42   9048  13916  15245       1       True  \n",
       "43   1234   6116   4588       0      False  \n",
       "44  13916  15599   4926       1       True  \n",
       "45   6017  17931   1118       1       True  \n",
       "46   2417   6308   1234       0      False  \n",
       "47   1231  16813   3612       0      False  \n",
       "48  15512   7558  10492       1      False  \n",
       "49  11077   1118   5766       0      False  \n",
       "\n",
       "[50 rows x 112 columns]"
      ]
     },
     "execution_count": 61,
     "metadata": {},
     "output_type": "execute_result"
    }
   ],
   "source": [
    "pred.head(50)"
   ]
  },
  {
   "cell_type": "markdown",
   "id": "898955a4",
   "metadata": {},
   "source": [
    "### save the prediction dataset"
   ]
  },
  {
   "cell_type": "code",
   "execution_count": 65,
   "id": "HfmVzTvxNU1A",
   "metadata": {
    "executionInfo": {
     "elapsed": 763,
     "status": "ok",
     "timestamp": 1677238669344,
     "user": {
      "displayName": "Ranjit Singh",
      "userId": "11702740849844909823"
     },
     "user_tz": -330
    },
    "id": "HfmVzTvxNU1A"
   },
   "outputs": [],
   "source": [
    "# to create a prediction directory\n",
    "import os\n",
    "os.makedirs('/content/drive/MyDrive/fellowship/prediction', exist_ok=True)"
   ]
  },
  {
   "cell_type": "code",
   "execution_count": 66,
   "id": "lSfpwN7AMKUK",
   "metadata": {
    "executionInfo": {
     "elapsed": 539,
     "status": "ok",
     "timestamp": 1677238675846,
     "user": {
      "displayName": "Ranjit Singh",
      "userId": "11702740849844909823"
     },
     "user_tz": -330
    },
    "id": "lSfpwN7AMKUK"
   },
   "outputs": [],
   "source": [
    "pred.to_csv('/content/drive/MyDrive/fellowship/prediction/predict.csv',index=False)\n",
    "## to save the prediction dataset as a .csv file"
   ]
  },
  {
   "cell_type": "markdown",
   "id": "4b1a7cd8",
   "metadata": {},
   "source": [
    "# Thank you 🎯"
   ]
  }
 ],
 "metadata": {
  "accelerator": "GPU",
  "colab": {
   "provenance": []
  },
  "gpuClass": "standard",
  "kernelspec": {
   "display_name": "Python 3 (ipykernel)",
   "language": "python",
   "name": "python3"
  },
  "language_info": {
   "codemirror_mode": {
    "name": "ipython",
    "version": 3
   },
   "file_extension": ".py",
   "mimetype": "text/x-python",
   "name": "python",
   "nbconvert_exporter": "python",
   "pygments_lexer": "ipython3",
   "version": "3.10.6"
  },
  "vscode": {
   "interpreter": {
    "hash": "4843bf8525525bff01b65ec8f6f5f6eb6affffbfe485db02cb3adca26ffd5219"
   }
  }
 },
 "nbformat": 4,
 "nbformat_minor": 5
}
